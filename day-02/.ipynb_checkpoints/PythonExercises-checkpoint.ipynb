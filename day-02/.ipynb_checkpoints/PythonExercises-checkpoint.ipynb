{
 "cells": [
  {
   "cell_type": "markdown",
   "metadata": {},
   "source": [
    "# Python Exercises\n",
    "\n",
    "This notebook contains some exercises to test your understanding of strings, and list/dict comphrehensions. The last two exercises where chosen because they have very nice solutions involving list and dict comphrenhensions"
   ]
  },
  {
   "cell_type": "markdown",
   "metadata": {},
   "source": [
    "# Strings"
   ]
  },
  {
   "cell_type": "markdown",
   "metadata": {},
   "source": [
    " 1.)  Captilize each word in the string.\n"
   ]
  },
  {
   "cell_type": "code",
   "execution_count": null,
   "metadata": {},
   "outputs": [],
   "source": [
    "s = \"Hello world\\nPractice makes perfect \""
   ]
  },
  {
   "cell_type": "markdown",
   "metadata": {},
   "source": [
    "2.) Remove duplicate words from the string and print it in alphanumericall order"
   ]
  },
  {
   "cell_type": "code",
   "execution_count": 5,
   "metadata": {},
   "outputs": [],
   "source": [
    "s = \"hello world and practice makes perfect and hello world again\""
   ]
  },
  {
   "cell_type": "markdown",
   "metadata": {},
   "source": [
    "# List Comprehension"
   ]
  },
  {
   "cell_type": "markdown",
   "metadata": {},
   "source": [
    "1.) Convert the bellow example into a list comprehension"
   ]
  },
  {
   "cell_type": "code",
   "execution_count": 35,
   "metadata": {
    "collapsed": false
   },
   "outputs": [
    {
     "data": {
      "text/plain": [
       "['b', 'b', 'c']"
      ]
     },
     "execution_count": 35,
     "metadata": {},
     "output_type": "execute_result"
    }
   ],
   "source": [
    "empty_list = []\n",
    "for i  in 'abc':\n",
    "    if i=='a':\n",
    "        empty_list.append('b')\n",
    "    else:\n",
    "        empty_list.append(i)\n",
    "empty_list"
   ]
  },
  {
   "cell_type": "markdown",
   "metadata": {},
   "source": [
    "2.) Use a list comprehension to square each odd number the list and remove each even number. "
   ]
  },
  {
   "cell_type": "code",
   "execution_count": 3,
   "metadata": {},
   "outputs": [
    {
     "data": {
      "text/plain": [
       "[1, 9, 25, 49, 81]"
      ]
     },
     "execution_count": 3,
     "metadata": {},
     "output_type": "execute_result"
    }
   ],
   "source": [
    "l =[1,2,3,4,5,6,7,8,9]"
   ]
  },
  {
   "cell_type": "markdown",
   "metadata": {},
   "source": [
    "# RNA To DNA"
   ]
  },
  {
   "cell_type": "markdown",
   "metadata": {},
   "source": [
    "3.) Read the rna into a string from `data/rna.txt`.  Write a program that can translate RNA into protein. Every 3 non-overlaping letters (or codon) corresponds to a single letter ( or amino acid)\n",
    "\n",
    "![](http://people.ibest.uidaho.edu/~etop/vgp/img/terms/geneticCode.png)\n",
    "\n",
    "\n",
    "Example Input\n",
    "> AUGGCCAUGGCGCCCAGAACUGAGAUCAAUAGUACCCGUAUUAACGGGUGA\n",
    "\n",
    "Example output\n",
    "> MAMAPRTEINSTRING\n",
    "\n",
    "You can use the condon table provided."
   ]
  },
  {
   "cell_type": "code",
   "execution_count": 5,
   "metadata": {},
   "outputs": [],
   "source": [
    "string = \"\"\"UUU F      CUU L      AUU I      GUU V\n",
    "UUC F      CUC L      AUC I      GUC V\n",
    "UUA L      CUA L      AUA I      GUA V\n",
    "UUG L      CUG L      AUG M      GUG V\n",
    "UCU S      CCU P      ACU T      GCU A\n",
    "UCC S      CCC P      ACC T      GCC A\n",
    "UCA S      CCA P      ACA T      GCA A\n",
    "UCG S      CCG P      ACG T      GCG A\n",
    "UAU Y      CAU H      AAU N      GAU D\n",
    "UAC Y      CAC H      AAC N      GAC D\n",
    "UAA Stop   CAA Q      AAA K      GAA E\n",
    "UAG Stop   CAG Q      AAG K      GAG E\n",
    "UGU C      CGU R      AGU S      GGU G\n",
    "UGC C      CGC R      AGC S      GGC G\n",
    "UGA Stop   CGA R      AGA R      GGA G\n",
    "UGG W      CGG R      AGG R      GGG G\"\"\"\n",
    "\n",
    "string =  string.split()\n",
    "codon_table = dict(zip(string[0::2], string[1::2]))"
   ]
  },
  {
   "cell_type": "code",
   "execution_count": null,
   "metadata": {},
   "outputs": [],
   "source": []
  },
  {
   "cell_type": "code",
   "execution_count": 4,
   "metadata": {},
   "outputs": [],
   "source": [
    "assert translate(\"AUGGCCAUGGCGCCCAGAACUGAGAUCAAUAGUACCCGUAUUAACGGGUGA\") == 'MAMAPRTEINSTRING'"
   ]
  },
  {
   "cell_type": "markdown",
   "metadata": {},
   "source": [
    "# Casear Cipher\n",
    "\n",
    "Casears cipher is one of the ealiest known and simplest shift ciphers. Each letter in the plan text is moved by a shift of $ n $ . For example, with a shift of 1, A would be replaced by B, B would become C, and so on.\n",
    "\n",
    "\n",
    "\n",
    "```\n",
    "shift of  1\n",
    "plain text:  defend the east wall of the castle\n",
    "cipher text: efgfoe uif fbtu xbmm pg uif dbtumf\n",
    "\n",
    "shift of 2\n",
    "plain text: abcdefghijklmnopqrstuvwxyz\n",
    "cipher text: cdefghijklmnopqrstuvwxyzab\n",
    "```\n",
    "\n",
    "\n",
    "Write two functions, the first should that take text and a key and encrypt that text. The second should take a text and a key and decrypt the text. You can assume that the string is all lowercase. \n",
    "Use dictionary comphensions in you functions."
   ]
  },
  {
   "cell_type": "code",
   "execution_count": 7,
   "metadata": {
    "collapsed": true
   },
   "outputs": [],
   "source": [
    "import string"
   ]
  },
  {
   "cell_type": "code",
   "execution_count": 8,
   "metadata": {},
   "outputs": [
    {
     "data": {
      "text/plain": [
       "'abcdefghijklmnopqrstuvwxyz'"
      ]
     },
     "execution_count": 8,
     "metadata": {},
     "output_type": "execute_result"
    }
   ],
   "source": [
    "string.ascii_lowercase #so you don't have to type the alphabet"
   ]
  },
  {
   "cell_type": "code",
   "execution_count": null,
   "metadata": {},
   "outputs": [],
   "source": []
  },
  {
   "cell_type": "code",
   "execution_count": 3,
   "metadata": {},
   "outputs": [],
   "source": [
    "assert encrypt(\"abc xzy\",2) == \"cde zba\""
   ]
  },
  {
   "cell_type": "code",
   "execution_count": null,
   "metadata": {},
   "outputs": [],
   "source": []
  },
  {
   "cell_type": "code",
   "execution_count": 5,
   "metadata": {},
   "outputs": [],
   "source": [
    "assert decrypt(\"cde zab\",2) == \"abc xyz\""
   ]
  },
  {
   "cell_type": "markdown",
   "metadata": {},
   "source": [
    "** Bonus **\n",
    "\n",
    "Can you and encrypt and decrpyt a string when we remove the assumption that all the letters are lowercase?"
   ]
  }
 ],
 "metadata": {
  "kernelspec": {
   "display_name": "Python 3",
   "language": "python",
   "name": "python3"
  },
  "language_info": {
   "codemirror_mode": {
    "name": "ipython",
    "version": 3
   },
   "file_extension": ".py",
   "mimetype": "text/x-python",
   "name": "python",
   "nbconvert_exporter": "python",
   "pygments_lexer": "ipython3",
   "version": "3.6.3"
  }
 },
 "nbformat": 4,
 "nbformat_minor": 2
}
