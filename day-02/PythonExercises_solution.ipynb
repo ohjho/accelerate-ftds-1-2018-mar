{
 "cells": [
  {
   "cell_type": "markdown",
   "metadata": {},
   "source": [
    "# Python Exercises\n",
    "\n",
    "This notebook contains some exercises to test your understanding of strings, and list/dict comphrehensions. The last two exercises where chosen because they have very nice solutions involving list and dict comphrenhensions"
   ]
  },
  {
   "cell_type": "markdown",
   "metadata": {},
   "source": [
    "# Strings"
   ]
  },
  {
   "cell_type": "markdown",
   "metadata": {},
   "source": [
    "1.)  Captilize each word in the string.\n"
   ]
  },
  {
   "cell_type": "code",
   "execution_count": 53,
   "metadata": {},
   "outputs": [],
   "source": [
    "s = \"Hello world\\nPractice makes perfect \""
   ]
  },
  {
   "cell_type": "code",
   "execution_count": 54,
   "metadata": {},
   "outputs": [
    {
     "data": {
      "text/plain": [
       "'Hello world\\npractice makes perfect '"
      ]
     },
     "execution_count": 54,
     "metadata": {},
     "output_type": "execute_result"
    }
   ],
   "source": [
    "# %load solutions/str-1.py\n",
    "s.capitalize()"
   ]
  },
  {
   "cell_type": "markdown",
   "metadata": {},
   "source": [
    "2.) Remove duplicate words from the string and print it in alphanumericall order"
   ]
  },
  {
   "cell_type": "code",
   "execution_count": 2,
   "metadata": {},
   "outputs": [],
   "source": [
    "s = \"hello world and practice makes perfect and hello world again\""
   ]
  },
  {
   "cell_type": "code",
   "execution_count": 60,
   "metadata": {},
   "outputs": [
    {
     "data": {
      "text/plain": [
       "['again', 'and', 'hello', 'makes', 'perfect', 'practice', 'world']"
      ]
     },
     "execution_count": 60,
     "metadata": {},
     "output_type": "execute_result"
    }
   ],
   "source": [
    "unique = set(s.split())\n",
    "unique = list(unique)\n",
    "unique.sort()\n",
    "unique"
   ]
  },
  {
   "cell_type": "code",
   "execution_count": 3,
   "metadata": {},
   "outputs": [
    {
     "data": {
      "text/plain": [
       "['again', 'and', 'hello', 'makes', 'perfect', 'practice', 'world']"
      ]
     },
     "execution_count": 3,
     "metadata": {},
     "output_type": "execute_result"
    }
   ],
   "source": [
    "# %load solutions/str-2.py\n",
    "unique = list(set(s.split()))\n",
    "unique.sort()\n",
    "unique"
   ]
  },
  {
   "cell_type": "markdown",
   "metadata": {},
   "source": [
    "# List Comprehension"
   ]
  },
  {
   "cell_type": "markdown",
   "metadata": {},
   "source": [
    "1.) Convert the bellow example into a list comprehension"
   ]
  },
  {
   "cell_type": "code",
   "execution_count": 61,
   "metadata": {},
   "outputs": [
    {
     "data": {
      "text/plain": [
       "['b', 'b', 'c']"
      ]
     },
     "execution_count": 61,
     "metadata": {},
     "output_type": "execute_result"
    }
   ],
   "source": [
    "empty_list = []\n",
    "for i  in 'abc':\n",
    "    if i=='a':\n",
    "        empty_list.append('b')\n",
    "    else:\n",
    "        empty_list.append(i)\n",
    "empty_list"
   ]
  },
  {
   "cell_type": "code",
   "execution_count": 21,
   "metadata": {},
   "outputs": [],
   "source": [
    "# %load solutions/list-1.py\n",
    "[ 'b' if char == 'a' else char for char in 'abc' ]"
   ]
  },
  {
   "cell_type": "markdown",
   "metadata": {},
   "source": [
    "2.) Use a list comprehension to square each odd number the list and remove each even number. "
   ]
  },
  {
   "cell_type": "code",
   "execution_count": 63,
   "metadata": {},
   "outputs": [],
   "source": [
    "l =[1,2,3,4,5,6,7,8,9]"
   ]
  },
  {
   "cell_type": "code",
   "execution_count": 64,
   "metadata": {},
   "outputs": [
    {
     "data": {
      "text/plain": [
       "[1, 9, 25, 49, 81]"
      ]
     },
     "execution_count": 64,
     "metadata": {},
     "output_type": "execute_result"
    }
   ],
   "source": [
    "# %load solutions/list-2.py\n",
    "[ x**2 for x in l if x % 2 == 1]"
   ]
  },
  {
   "cell_type": "markdown",
   "metadata": {},
   "source": [
    "# RNA To Protein"
   ]
  },
  {
   "cell_type": "markdown",
   "metadata": {},
   "source": [
    "3.) Read the rna into a string from `data/rna.txt`.  Write a program that can translate RNA into protein. Every 3 non-overlaping letters (or codon) corresponds to a single letter ( or amino acid)\n",
    "\n",
    "![](http://people.ibest.uidaho.edu/~etop/vgp/img/terms/geneticCode.png)\n",
    "\n",
    "\n",
    "Example Input\n",
    "> AUGGCCAUGGCGCCCAGAACUGAGAUCAAUAGUACCCGUAUUAACGGGUGA\n",
    "\n",
    "Example output\n",
    "> MAMAPRTEINSTRING\n",
    "\n",
    "You can use the condon table provided."
   ]
  },
  {
   "cell_type": "code",
   "execution_count": 65,
   "metadata": {},
   "outputs": [],
   "source": [
    "string = \"\"\"UUU F      CUU L      AUU I      GUU V\n",
    "UUC F      CUC L      AUC I      GUC V\n",
    "UUA L      CUA L      AUA I      GUA V\n",
    "UUG L      CUG L      AUG M      GUG V\n",
    "UCU S      CCU P      ACU T      GCU A\n",
    "UCC S      CCC P      ACC T      GCC A\n",
    "UCA S      CCA P      ACA T      GCA A\n",
    "UCG S      CCG P      ACG T      GCG A\n",
    "UAU Y      CAU H      AAU N      GAU D\n",
    "UAC Y      CAC H      AAC N      GAC D\n",
    "UAA *   CAA Q      AAA K      GAA E\n",
    "UAG *   CAG Q      AAG K      GAG E\n",
    "UGU C      CGU R      AGU S      GGU G\n",
    "UGC C      CGC R      AGC S      GGC G\n",
    "UGA *   CGA R      AGA R      GGA G\n",
    "UGG W      CGG R      AGG R      GGG G\"\"\"\n",
    "\n",
    "string =  string.split()\n",
    "codon_table = dict(zip(string[0::2], string[1::2]))"
   ]
  },
  {
   "cell_type": "code",
   "execution_count": 75,
   "metadata": {},
   "outputs": [],
   "source": [
    "rna = \"abcdefghi\"\n",
    "pretend_table = {'abc':'A','def':'B','ghi':'C'}"
   ]
  },
  {
   "cell_type": "code",
   "execution_count": 77,
   "metadata": {},
   "outputs": [
    {
     "data": {
      "text/plain": [
       "'ABC'"
      ]
     },
     "execution_count": 77,
     "metadata": {},
     "output_type": "execute_result"
    }
   ],
   "source": [
    "\"\".join([ pretend_table[rna[i:i+3]] for i in range(0,len(rna),3)]) # start, stop ,step"
   ]
  },
  {
   "cell_type": "code",
   "execution_count": 72,
   "metadata": {},
   "outputs": [],
   "source": [
    "# %load solutions/rna2aa.py\n",
    "def translate(rna):\n",
    "    return  \"\".join([codon_table[rna[ i:i + 3]] for i in range(0,len(rna),3 )])"
   ]
  },
  {
   "cell_type": "code",
   "execution_count": 4,
   "metadata": {},
   "outputs": [],
   "source": [
    "assert translate(\"AUGGCCAUGGCGCCCAGAACUGAGAUCAAUAGUACCCGUAUUAACGGGUGA\") == 'MAMAPRTEINSTRING'"
   ]
  },
  {
   "cell_type": "markdown",
   "metadata": {},
   "source": [
    "# Casear Cipher\n",
    "\n",
    "Casears cipher is one of the ealiest known and simplest shift ciphers. Each letter in the plan text is moved by a shift of $ n $ . For example, with a shift of 1, A would be replaced by B, B would become C, and so on.\n",
    "\n",
    "\n",
    "\n",
    "```\n",
    "shift of  1\n",
    "plain text:  defend the east wall of the castle\n",
    "cipher text: efgfoe uif fbtu xbmm pg uif dbtumf\n",
    "\n",
    "shift of 2\n",
    "plain text: abcdefghijklmnopqrstuvwxyz\n",
    "cipher text: cdefghijklmnopqrstuvwxyzab\n",
    "```\n",
    "\n",
    "\n",
    "Write two functions, the first should that take text and a key and encrypt that text. The second should take a text and a key and decrypt the text. You can assume that the string is all lowercase. \n",
    "Use dictionary comphensions in you functions."
   ]
  },
  {
   "cell_type": "code",
   "execution_count": 78,
   "metadata": {
    "collapsed": true
   },
   "outputs": [],
   "source": [
    "import string"
   ]
  },
  {
   "cell_type": "code",
   "execution_count": 79,
   "metadata": {},
   "outputs": [
    {
     "data": {
      "text/plain": [
       "'abcdefghijklmnopqrstuvwxyz'"
      ]
     },
     "execution_count": 79,
     "metadata": {},
     "output_type": "execute_result"
    }
   ],
   "source": [
    "string.ascii_lowercase #so you don't have to type the alphabet"
   ]
  },
  {
   "cell_type": "code",
   "execution_count": 85,
   "metadata": {},
   "outputs": [],
   "source": [
    "char2num = {k:i for i,k in enumerate(string.ascii_lowercase)}\n",
    "num2char = {k:i for k,i in enumerate(string.ascii_lowercase)}"
   ]
  },
  {
   "cell_type": "code",
   "execution_count": 90,
   "metadata": {},
   "outputs": [],
   "source": [
    "text = \"abcdez\"\n",
    "key = 2"
   ]
  },
  {
   "cell_type": "code",
   "execution_count": 92,
   "metadata": {},
   "outputs": [
    {
     "data": {
      "text/plain": [
       "'b'"
      ]
     },
     "execution_count": 92,
     "metadata": {},
     "output_type": "execute_result"
    }
   ],
   "source": [
    "num2char[ (char2num['z'] + 2) % 26]"
   ]
  },
  {
   "cell_type": "code",
   "execution_count": 80,
   "metadata": {
    "collapsed": true
   },
   "outputs": [],
   "source": [
    "# %load solutions/encrypt\n",
    "def encrypt(text,key):\n",
    "    \n",
    "    char2num = {k:i for i,k in enumerate(string.ascii_lowercase)}\n",
    "    num2char = {k:i for k,i in enumerate(string.ascii_lowercase)}\n",
    "    return \"\".join([ num2char[(char2num[c] + key) % 26 ] if c.isalpha() else c  for c in text])"
   ]
  },
  {
   "cell_type": "code",
   "execution_count": 3,
   "metadata": {},
   "outputs": [],
   "source": [
    "assert encrypt(\"abc xzy\",2) == \"cde zba\""
   ]
  },
  {
   "cell_type": "code",
   "execution_count": 32,
   "metadata": {},
   "outputs": [],
   "source": [
    "# %load solutions/decrypt\n",
    "def decrypt(text,key):\n",
    "\n",
    "    char2num = {k:i for i,k in enumerate(string.ascii_lowercase)}\n",
    "    num2char = {k:i for k,i in enumerate(string.ascii_lowercase)}\n",
    "    return \"\".join([ num2char[(char2num[c] - key) % 26 ] if c.isalpha() else c for c in text])"
   ]
  },
  {
   "cell_type": "code",
   "execution_count": 5,
   "metadata": {},
   "outputs": [],
   "source": [
    "assert decrypt(\"cde zab\",2) == \"abc xyz\""
   ]
  },
  {
   "cell_type": "markdown",
   "metadata": {},
   "source": [
    "** Bonus **\n",
    "\n",
    "Can you and encrypt and decrpyt a string when we remove the assumption that all the letters are lowercase?"
   ]
  },
  {
   "cell_type": "code",
   "execution_count": 33,
   "metadata": {},
   "outputs": [],
   "source": [
    "def encrypt_lower(text,key):\n",
    "    \n",
    "    char2num = {k:i for i,k in enumerate(string.ascii_lowercase)}\n",
    "    num2char = {k:i for k,i in enumerate(string.ascii_lowercase)}\n",
    "    return \"\".join([ num2char[(char2num[c] + key) % 26 ] if c.isalpha() else c  for c in text])"
   ]
  },
  {
   "cell_type": "code",
   "execution_count": 34,
   "metadata": {},
   "outputs": [],
   "source": [
    "def encrypt_upper(text,key):\n",
    "    \n",
    "    char2num = {k:i for i,k in enumerate(string.ascii_uppercase)}\n",
    "    num2char = {k:i for k,i in enumerate(string.ascii_uppercase)}\n",
    "    return \"\".join([ num2char[(char2num[c] + key) % 26 ] if c.isalpha() else c  for c in text])"
   ]
  },
  {
   "cell_type": "code",
   "execution_count": 48,
   "metadata": {},
   "outputs": [],
   "source": [
    "def decrypt_lower(text,key):\n",
    "    \n",
    "    char2num = {k:i for i,k in enumerate(string.ascii_lowercase)}\n",
    "    num2char = {k:i for k,i in enumerate(string.ascii_lowercase)}\n",
    "    return \"\".join([ num2char[(char2num[c] - key) % 26 ] if c.isalpha() else c  for c in text])"
   ]
  },
  {
   "cell_type": "code",
   "execution_count": 49,
   "metadata": {},
   "outputs": [],
   "source": [
    "def decrypt_upper(text,key):\n",
    "    \n",
    "    char2num = {k:i for i,k in enumerate(string.ascii_uppercase)}\n",
    "    num2char = {k:i for k,i in enumerate(string.ascii_uppercase)}\n",
    "    return \"\".join([ num2char[(char2num[c] - key) % 26 ] if c.isalpha() else c  for c in text])"
   ]
  },
  {
   "cell_type": "code",
   "execution_count": 45,
   "metadata": {},
   "outputs": [],
   "source": [
    "def encrypt(text,key):\n",
    "    \n",
    "    return \"\".join([ encrypt_lower(char,key) if char.islower() else encrypt_upper(char,key) for char in text ])"
   ]
  },
  {
   "cell_type": "code",
   "execution_count": 50,
   "metadata": {},
   "outputs": [],
   "source": [
    "def decrypt(text,key):\n",
    "    \n",
    "    return \"\".join([ decrypt_lower(char,key) if char.islower() else decrypt_upper(char,key) for char in text ])"
   ]
  }
 ],
 "metadata": {
  "kernelspec": {
   "display_name": "Python 3",
   "language": "python",
   "name": "python3"
  },
  "language_info": {
   "codemirror_mode": {
    "name": "ipython",
    "version": 3
   },
   "file_extension": ".py",
   "mimetype": "text/x-python",
   "name": "python",
   "nbconvert_exporter": "python",
   "pygments_lexer": "ipython3",
   "version": "3.6.3"
  }
 },
 "nbformat": 4,
 "nbformat_minor": 2
}
