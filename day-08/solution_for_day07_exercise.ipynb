{
 "cells": [
  {
   "cell_type": "code",
   "execution_count": null,
   "metadata": {
    "collapsed": true
   },
   "outputs": [],
   "source": [
    "# Reference:\n",
    "\n",
    "sumofx = 386\n",
    "sumofy = 460\n",
    "sumofx2 = 25426\n",
    "sumofy2 = 28867\n",
    "sumofxy = 26161\n",
    "n = 8\n",
    "\n",
    "Sxx = sumofx2 - (sumofx)**2/n\n",
    "Syy = sumofy2 - (sumofy)**2/n\n",
    "Sxy = sumofxy - (sumofx*sumofy)/n\n",
    "\n",
    "beta_1 = Sxy/Sxx\n",
    "beta_0 = mean_y - beta_1*mean_x\n",
    "\n",
    "\n",
    "total_sum_of_square = Syy\n",
    "regression_sum_of_square = beta_1*Sxy\n",
    "residual_sum_of_square = Syy - beta_1*Sxy\n"
   ]
  },
  {
   "cell_type": "markdown",
   "metadata": {},
   "source": [
    "# Exercise 1"
   ]
  },
  {
   "cell_type": "code",
   "execution_count": 20,
   "metadata": {
    "scrolled": true
   },
   "outputs": [
    {
     "name": "stdout",
     "output_type": "stream",
     "text": [
      "y-intercept is :  1.1683843071372504\n",
      "Slope is:  0.055540561010203944\n",
      "Total Sum of Square:  12.9455\n",
      "Regression Sum of Square:  11.200587236122779\n",
      "Residual Sum of Square:  1.7449127638772204\n",
      "Mean Square of Regression :  11.200587236122779\n",
      "Mean Square of Residual :  0.09693959799317892\n",
      "F Value is:  115.54191958698756\n",
      "The critical value for 1% significant level is:  15.3793059774\n"
     ]
    }
   ],
   "source": [
    "\n",
    "n = 20\n",
    "\n",
    "sumofx = 809\n",
    "sumofy = 68.3\n",
    "\n",
    "Sxx = 3630.95\n",
    "Sxy = 201.665\n",
    "Syy = 12.9455\n",
    "\n",
    "mean_x = sumofx/n\n",
    "mean_y = sumofy/n\n",
    "\n",
    "beta_1 = Sxy/Sxx\n",
    "beta_0 = mean_y - beta_1*mean_x\n",
    "\n",
    "print(\"y-intercept is : \",beta_0)\n",
    "print(\"Slope is: \", beta_1)\n",
    "\n",
    "\n",
    "total_sum_of_square = Syy\n",
    "regression_sum_of_square = beta_1*Sxy\n",
    "residual_sum_of_square = Syy - beta_1*Sxy\n",
    "\n",
    "print(\"Total Sum of Square: \", total_sum_of_square)\n",
    "print(\"Regression Sum of Square: \", regression_sum_of_square)\n",
    "print(\"Residual Sum of Square: \", residual_sum_of_square)\n",
    "\n",
    "\n",
    "print(\"Mean Square of Regression : \", regression_sum_of_square/1)\n",
    "print(\"Mean Square of Residual : \", residual_sum_of_square/(n-1-1))\n",
    "\n",
    "print(\"F Value is: \", (regression_sum_of_square/1)/(residual_sum_of_square/(n-1-1)))\n",
    "\n",
    "\n",
    "# for F distribution\n",
    "\n",
    "from scipy.stats import distributions as dists\n",
    "\n",
    "fcritical = dists.f.ppf(1-0.001,1,18)  # F statistics with DF regression = 1, Residual =18\n",
    "print(\"The critical value for 0.1% significant level is: \",fcritical)\n",
    "\n",
    "\n",
    "# Notice that 115.54191958698756 > 15.3793059774, we reject the null hypothesis in favor of alternative hypothesis\n",
    "# null hypothesis is beta_1 = 0, alternative hypothesis is beta_1 <> 0"
   ]
  },
  {
   "cell_type": "markdown",
   "metadata": {},
   "source": [
    "# Exercise 2"
   ]
  },
  {
   "cell_type": "code",
   "execution_count": 26,
   "metadata": {},
   "outputs": [
    {
     "data": {
      "text/html": [
       "<div>\n",
       "<style>\n",
       "    .dataframe thead tr:only-child th {\n",
       "        text-align: right;\n",
       "    }\n",
       "\n",
       "    .dataframe thead th {\n",
       "        text-align: left;\n",
       "    }\n",
       "\n",
       "    .dataframe tbody tr th {\n",
       "        vertical-align: top;\n",
       "    }\n",
       "</style>\n",
       "<table border=\"1\" class=\"dataframe\">\n",
       "  <thead>\n",
       "    <tr style=\"text-align: right;\">\n",
       "      <th></th>\n",
       "      <th>h</th>\n",
       "      <th>t</th>\n",
       "    </tr>\n",
       "  </thead>\n",
       "  <tbody>\n",
       "    <tr>\n",
       "      <th>0</th>\n",
       "      <td>1.64</td>\n",
       "      <td>50</td>\n",
       "    </tr>\n",
       "    <tr>\n",
       "      <th>1</th>\n",
       "      <td>1.60</td>\n",
       "      <td>50</td>\n",
       "    </tr>\n",
       "    <tr>\n",
       "      <th>2</th>\n",
       "      <td>1.63</td>\n",
       "      <td>60</td>\n",
       "    </tr>\n",
       "    <tr>\n",
       "      <th>3</th>\n",
       "      <td>1.65</td>\n",
       "      <td>60</td>\n",
       "    </tr>\n",
       "    <tr>\n",
       "      <th>4</th>\n",
       "      <td>1.67</td>\n",
       "      <td>70</td>\n",
       "    </tr>\n",
       "    <tr>\n",
       "      <th>5</th>\n",
       "      <td>1.67</td>\n",
       "      <td>70</td>\n",
       "    </tr>\n",
       "    <tr>\n",
       "      <th>6</th>\n",
       "      <td>1.72</td>\n",
       "      <td>80</td>\n",
       "    </tr>\n",
       "    <tr>\n",
       "      <th>7</th>\n",
       "      <td>1.70</td>\n",
       "      <td>80</td>\n",
       "    </tr>\n",
       "    <tr>\n",
       "      <th>8</th>\n",
       "      <td>1.72</td>\n",
       "      <td>90</td>\n",
       "    </tr>\n",
       "    <tr>\n",
       "      <th>9</th>\n",
       "      <td>1.71</td>\n",
       "      <td>90</td>\n",
       "    </tr>\n",
       "    <tr>\n",
       "      <th>10</th>\n",
       "      <td>1.74</td>\n",
       "      <td>100</td>\n",
       "    </tr>\n",
       "    <tr>\n",
       "      <th>11</th>\n",
       "      <td>1.71</td>\n",
       "      <td>100</td>\n",
       "    </tr>\n",
       "  </tbody>\n",
       "</table>\n",
       "</div>"
      ],
      "text/plain": [
       "       h    t\n",
       "0   1.64   50\n",
       "1   1.60   50\n",
       "2   1.63   60\n",
       "3   1.65   60\n",
       "4   1.67   70\n",
       "5   1.67   70\n",
       "6   1.72   80\n",
       "7   1.70   80\n",
       "8   1.72   90\n",
       "9   1.71   90\n",
       "10  1.74  100\n",
       "11  1.71  100"
      ]
     },
     "execution_count": 26,
     "metadata": {},
     "output_type": "execute_result"
    }
   ],
   "source": [
    "\n",
    "t = [50,50, 60,60, 70,70, 80,80, 90,90, 100,100]\n",
    "h = [ 1.64, 1.6,1.63, 1.65, 1.67, 1.67, 1.72,1.70 , 1.72, 1.71, 1.74, 1.71]\n",
    "\n",
    "import pandas as pd\n",
    "df = pd.DataFrame( {'t': t, 'h': h})\n",
    "\n",
    "df"
   ]
  },
  {
   "cell_type": "code",
   "execution_count": 28,
   "metadata": {},
   "outputs": [
    {
     "data": {
      "text/plain": [
       "Text(0,0.5,'h')"
      ]
     },
     "execution_count": 28,
     "metadata": {},
     "output_type": "execute_result"
    },
    {
     "data": {
      "image/png": "[encoded data removed]",
      "text/plain": [
       "<matplotlib.figure.Figure at 0x7fbf14bacba8>"
      ]
     },
     "metadata": {},
     "output_type": "display_data"
    }
   ],
   "source": [
    "import matplotlib.pyplot as plt\n",
    "\n",
    "plt.plot(t,h,\"o\")\n",
    "plt.xlabel(\"t\")\n",
    "plt.ylabel(\"h\")\n",
    "\n",
    "# The data follow a broadly linear increasing trend with roughly constant scatter. \n",
    "# It is reasonable to assume that the temperature is preset by the experimenters without error. \n"
   ]
  },
  {
   "cell_type": "code",
   "execution_count": 29,
   "metadata": {},
   "outputs": [
    {
     "name": "stderr",
     "output_type": "stream",
     "text": [
      "/home/nbuser/anaconda3_501/lib/python3.6/site-packages/statsmodels/compat/pandas.py:56: FutureWarning: The pandas.core.datetools module is deprecated and will be removed in a future version. Please use the pandas.tseries module instead.\n",
      "  from pandas.core import datetools\n"
     ]
    },
    {
     "name": "stdout",
     "output_type": "stream",
     "text": [
      "                            OLS Regression Results                            \n",
      "==============================================================================\n",
      "Dep. Variable:                      h   R-squared:                       0.866\n",
      "Model:                            OLS   Adj. R-squared:                  0.852\n",
      "Method:                 Least Squares   F-statistic:                     64.41\n",
      "Date:                Tue, 27 Mar 2018   Prob (F-statistic):           1.15e-05\n",
      "Time:                        09:33:10   Log-Likelihood:                 33.219\n",
      "No. Observations:                  12   AIC:                            -62.44\n",
      "Df Residuals:                      10   BIC:                            -61.47\n",
      "Df Model:                           1                                         \n",
      "Covariance Type:            nonrobust                                         \n",
      "==============================================================================\n",
      "                 coef    std err          t      P>|t|      [0.025      0.975]\n",
      "------------------------------------------------------------------------------\n",
      "Intercept      1.5107      0.022     69.831      0.000       1.463       1.559\n",
      "t              0.0023      0.000      8.025      0.000       0.002       0.003\n",
      "==============================================================================\n",
      "Omnibus:                        0.140   Durbin-Watson:                   1.544\n",
      "Prob(Omnibus):                  0.932   Jarque-Bera (JB):                0.155\n",
      "Skew:                          -0.160   Prob(JB):                        0.925\n",
      "Kurtosis:                       2.544   Cond. No.                         347.\n",
      "==============================================================================\n",
      "\n",
      "Warnings:\n",
      "[1] Standard Errors assume that the covariance matrix of the errors is correctly specified.\n"
     ]
    },
    {
     "name": "stderr",
     "output_type": "stream",
     "text": [
      "/home/nbuser/anaconda3_501/lib/python3.6/site-packages/scipy/stats/stats.py:1334: UserWarning: kurtosistest only valid for n>=20 ... continuing anyway, n=12\n",
      "  \"anyway, n=%i\" % int(n))\n"
     ]
    }
   ],
   "source": [
    "import statsmodels.api as sm\n",
    "import statsmodels.formula.api as smf\n",
    "\n",
    "import pandas as pd\n",
    "\n",
    "# using dataframe as the basis for statistical modeling\n",
    "\n",
    "df = pd.DataFrame(\n",
    "    {'t':t,\n",
    "     'h':h})\n",
    "\n",
    "# y~x meaning that the target variable is y, the predictor is x\n",
    "\n",
    "result = smf.ols('h~t',data = df).fit()\n",
    "\n",
    "# print the summary can get thoughout understanding of the fitted linear regression\n",
    "\n",
    "print(result.summary())"
   ]
  },
  {
   "cell_type": "code",
   "execution_count": 31,
   "metadata": {
    "scrolled": false
   },
   "outputs": [
    {
     "name": "stdout",
     "output_type": "stream",
     "text": [
      "The predicted Heat for temperature equal to 85 is 0    1.702571\n",
      "dtype: float64\n"
     ]
    }
   ],
   "source": [
    "new_record = [85]\n",
    "\n",
    "new_record = pd.DataFrame(\n",
    "    {'t':new_record\n",
    "    })\n",
    "\n",
    "\n",
    "res = result.predict(new_record)\n",
    "\n",
    "print(\"The predicted Heat for temperature equal to 85 is\", res)"
   ]
  },
  {
   "cell_type": "markdown",
   "metadata": {},
   "source": [
    "# Exercise 3:"
   ]
  },
  {
   "cell_type": "code",
   "execution_count": 3,
   "metadata": {},
   "outputs": [],
   "source": [
    "# Exercise 3:\n",
    "\n",
    "price = [14, 20, 37, 36, 31, 42, 54, 64, 38, 66, 64, 77, 79, 93, 119, 135]\n",
    "length = [120, 120, 120, 120, 150, 150, 150, 150, 180, 180, 180, 180, 240, 240, 240, 240]\n",
    "width = [60, 80, 100, 120, 75, 100, 125, 150, 90, 120, 150, 180, 120, 160, 200, 240]"
   ]
  },
  {
   "cell_type": "code",
   "execution_count": 4,
   "metadata": {},
   "outputs": [
    {
     "data": {
      "text/plain": [
       "Text(0,0.5,'price')"
      ]
     },
     "execution_count": 4,
     "metadata": {},
     "output_type": "execute_result"
    },
    {
     "data": {
      "image/png": "[encoded data removed]",
      "text/plain": [
       "<matplotlib.figure.Figure at 0x7f8dced12b00>"
      ]
     },
     "metadata": {},
     "output_type": "display_data"
    }
   ],
   "source": [
    "import matplotlib.pyplot as plt\n",
    "\n",
    "plt.plot(length,price,\"o\")\n",
    "plt.xlabel(\"length\")\n",
    "plt.ylabel(\"price\")\n"
   ]
  },
  {
   "cell_type": "code",
   "execution_count": 5,
   "metadata": {
    "scrolled": true
   },
   "outputs": [
    {
     "data": {
      "text/plain": [
       "Text(0,0.5,'price')"
      ]
     },
     "execution_count": 5,
     "metadata": {},
     "output_type": "execute_result"
    },
    {
     "data": {
      "image/png": "[encoded data removed]",
      "text/plain": [
       "<matplotlib.figure.Figure at 0x7f8dd235be10>"
      ]
     },
     "metadata": {},
     "output_type": "display_data"
    }
   ],
   "source": [
    "import matplotlib.pyplot as plt\n",
    "\n",
    "plt.plot(width,price,\"o\")\n",
    "plt.xlabel(\"width\")\n",
    "plt.ylabel(\"price\")"
   ]
  },
  {
   "cell_type": "code",
   "execution_count": null,
   "metadata": {},
   "outputs": [],
   "source": [
    "# The graphs show a tendency for price to increase roughly linearly as either width or length increases. \n",
    "# There may be more scatter in the plot against length and a slight tendency for this to increase with length, \n",
    "# but these features may be due to the dependence of price on width"
   ]
  },
  {
   "cell_type": "code",
   "execution_count": null,
   "metadata": {},
   "outputs": [],
   "source": []
  },
  {
   "cell_type": "code",
   "execution_count": 6,
   "metadata": {
    "scrolled": false
   },
   "outputs": [
    {
     "name": "stderr",
     "output_type": "stream",
     "text": [
      "/home/nbuser/anaconda3_501/lib/python3.6/site-packages/statsmodels/compat/pandas.py:56: FutureWarning: The pandas.core.datetools module is deprecated and will be removed in a future version. Please use the pandas.tseries module instead.\n",
      "  from pandas.core import datetools\n"
     ]
    },
    {
     "name": "stdout",
     "output_type": "stream",
     "text": [
      "                            OLS Regression Results                            \n",
      "==============================================================================\n",
      "Dep. Variable:                  price   R-squared:                       0.979\n",
      "Model:                            OLS   Adj. R-squared:                  0.976\n",
      "Method:                 Least Squares   F-statistic:                     300.4\n",
      "Date:                Wed, 28 Mar 2018   Prob (F-statistic):           1.31e-11\n",
      "Time:                        02:23:03   Log-Likelihood:                -47.804\n",
      "No. Observations:                  16   AIC:                             101.6\n",
      "Df Residuals:                      13   BIC:                             103.9\n",
      "Df Model:                           2                                         \n",
      "Covariance Type:            nonrobust                                         \n",
      "==============================================================================\n",
      "                 coef    std err          t      P>|t|      [0.025      0.975]\n",
      "------------------------------------------------------------------------------\n",
      "Intercept    -52.6714      5.345     -9.854      0.000     -64.219     -41.124\n",
      "length         0.3236      0.042      7.614      0.000       0.232       0.415\n",
      "width          0.4438      0.040     11.063      0.000       0.357       0.531\n",
      "==============================================================================\n",
      "Omnibus:                        1.154   Durbin-Watson:                   2.452\n",
      "Prob(Omnibus):                  0.562   Jarque-Bera (JB):                0.992\n",
      "Skew:                          -0.439   Prob(JB):                        0.609\n",
      "Kurtosis:                       2.154   Cond. No.                         897.\n",
      "==============================================================================\n",
      "\n",
      "Warnings:\n",
      "[1] Standard Errors assume that the covariance matrix of the errors is correctly specified.\n"
     ]
    },
    {
     "name": "stderr",
     "output_type": "stream",
     "text": [
      "/home/nbuser/anaconda3_501/lib/python3.6/site-packages/scipy/stats/stats.py:1334: UserWarning: kurtosistest only valid for n>=20 ... continuing anyway, n=16\n",
      "  \"anyway, n=%i\" % int(n))\n"
     ]
    }
   ],
   "source": [
    "import statsmodels.api as sm\n",
    "import statsmodels.formula.api as smf\n",
    "\n",
    "import pandas as pd\n",
    "\n",
    "# using dataframe as the basis for statistical modeling\n",
    "\n",
    "df = pd.DataFrame(\n",
    "    {'price':price,\n",
    "     'length':length,\n",
    "    'width':width })\n",
    "\n",
    "# price~length+width meaning that the target variable is price, the predictor are length and width\n",
    "\n",
    "result = smf.ols('price~length+width',data = df).fit()\n",
    "\n",
    "# print the summary can get thoughout understanding of the fitted linear regression\n",
    "\n",
    "print(result.summary())"
   ]
  },
  {
   "cell_type": "code",
   "execution_count": 18,
   "metadata": {},
   "outputs": [
    {
     "name": "stdout",
     "output_type": "stream",
     "text": [
      "The predicted price for length equal to 200cm and width equal to 150cm is: $ 78.61428571428574\n"
     ]
    }
   ],
   "source": [
    "new_record = pd.DataFrame(\n",
    "    {'length':[200],\n",
    "     'width':[150]\n",
    "    })\n",
    "\n",
    "res = result.predict(new_record)\n",
    "\n",
    "res = float(res)\n",
    "\n",
    "print(\"The predicted price for length equal to 200cm and width equal to 150cm is: $\",res)\n"
   ]
  },
  {
   "cell_type": "code",
   "execution_count": null,
   "metadata": {},
   "outputs": [],
   "source": [
    "# Negative predicted prices will be given for sufficiently small carpets, since the constant term is −52.671, and such results are obviously unreasonable.\n",
    "# This illustrates the danger of extrapolation, or assuming that the model necessarily holds for values of the predictor variables well away from the observed data used to fit it. "
   ]
  },
  {
   "cell_type": "code",
   "execution_count": null,
   "metadata": {},
   "outputs": [],
   "source": []
  },
  {
   "cell_type": "code",
   "execution_count": 1,
   "metadata": {},
   "outputs": [
    {
     "name": "stdout",
     "output_type": "stream",
     "text": [
      "The critical value for 0.1% significant level is:  12.3127298107\n"
     ]
    }
   ],
   "source": [
    "# for F distribution\n",
    "\n",
    "from scipy.stats import distributions as dists\n",
    "\n",
    "fcritical = dists.f.ppf(1-0.001,2,13)  # F statistics with DF regression = 2, Residual =13\n",
    "print(\"The critical value for 0.1% significant level is: \",fcritical)"
   ]
  },
  {
   "cell_type": "code",
   "execution_count": null,
   "metadata": {},
   "outputs": [],
   "source": [
    "## Notice that the F Statistics is 300.4 > 12.3127, we reject the null hypothesis (beta_0 = beta_1=beta_2=0) in favor of alternative hypothesis, taking 0.1% significant level\n",
    "\n",
    "## The p-values for length and width are all smaller than 0.1%, we reject the null hypothesis(beta_1=0, beta_2=0) in favor of alternative hypothesis (beta_1 <>0,beta_2 <>0) \n",
    "\n",
    "## The R-squared = 0.98 which means 98% of Y is explained by the model\n",
    "\n",
    "## In summary, the fitted multiple linear model is useful for making prediction on price based on length and width"
   ]
  },
  {
   "cell_type": "code",
   "execution_count": null,
   "metadata": {},
   "outputs": [],
   "source": []
  },
  {
   "cell_type": "markdown",
   "metadata": {},
   "source": [
    "# Exercise 4:"
   ]
  },
  {
   "cell_type": "code",
   "execution_count": 19,
   "metadata": {},
   "outputs": [],
   "source": [
    "x = [1965,1970,1975,1980,1985,1990,1995,2000,2005]\n",
    "y = [109,114,116,117,114,127,131,138,141]"
   ]
  },
  {
   "cell_type": "code",
   "execution_count": 22,
   "metadata": {},
   "outputs": [
    {
     "data": {
      "text/plain": [
       "Text(0,0.5,'y')"
      ]
     },
     "execution_count": 22,
     "metadata": {},
     "output_type": "execute_result"
    },
    {
     "data": {
      "image/png": "[encoded data removed]",
      "text/plain": [
       "<matplotlib.figure.Figure at 0x7f8dca370908>"
      ]
     },
     "metadata": {},
     "output_type": "display_data"
    }
   ],
   "source": [
    "import matplotlib.pyplot as plt\n",
    "\n",
    "plt.plot(x,y,\"o\")\n",
    "plt.xlabel(\"x\")\n",
    "plt.ylabel(\"y\")\n",
    "\n",
    "# there is an outlier in x = 1985, the linear effect should be more strong if we remove the outlier data"
   ]
  },
  {
   "cell_type": "code",
   "execution_count": 23,
   "metadata": {
    "scrolled": false
   },
   "outputs": [
    {
     "name": "stdout",
     "output_type": "stream",
     "text": [
      "                            OLS Regression Results                            \n",
      "==============================================================================\n",
      "Dep. Variable:                  speed   R-squared:                       0.896\n",
      "Model:                            OLS   Adj. R-squared:                  0.881\n",
      "Method:                 Least Squares   F-statistic:                     60.00\n",
      "Date:                Wed, 28 Mar 2018   Prob (F-statistic):           0.000112\n",
      "Time:                        02:36:18   Log-Likelihood:                -24.116\n",
      "No. Observations:                   9   AIC:                             52.23\n",
      "Df Residuals:                       7   BIC:                             52.63\n",
      "Df Model:                           1                                         \n",
      "Covariance Type:            nonrobust                                         \n",
      "==============================================================================\n",
      "                 coef    std err          t      P>|t|      [0.025      0.975]\n",
      "------------------------------------------------------------------------------\n",
      "Intercept  -1465.0000    205.014     -7.146      0.000   -1949.782    -980.218\n",
      "year           0.8000      0.103      7.746      0.000       0.556       1.044\n",
      "==============================================================================\n",
      "Omnibus:                       13.184   Durbin-Watson:                   1.375\n",
      "Prob(Omnibus):                  0.001   Jarque-Bera (JB):                5.558\n",
      "Skew:                          -1.686   Prob(JB):                       0.0621\n",
      "Kurtosis:                       4.859   Cond. No.                     3.05e+05\n",
      "==============================================================================\n",
      "\n",
      "Warnings:\n",
      "[1] Standard Errors assume that the covariance matrix of the errors is correctly specified.\n",
      "[2] The condition number is large, 3.05e+05. This might indicate that there are\n",
      "strong multicollinearity or other numerical problems.\n"
     ]
    },
    {
     "name": "stderr",
     "output_type": "stream",
     "text": [
      "/home/nbuser/anaconda3_501/lib/python3.6/site-packages/scipy/stats/stats.py:1334: UserWarning: kurtosistest only valid for n>=20 ... continuing anyway, n=9\n",
      "  \"anyway, n=%i\" % int(n))\n"
     ]
    }
   ],
   "source": [
    "import statsmodels.api as sm\n",
    "import statsmodels.formula.api as smf\n",
    "\n",
    "import pandas as pd\n",
    "\n",
    "# using dataframe as the basis for statistical modeling\n",
    "\n",
    "df = pd.DataFrame(\n",
    "    {'year':x,\n",
    "     'speed':y})\n",
    "\n",
    "# price~length+width meaning that the target variable is price, the predictor are length and width\n",
    "\n",
    "result = smf.ols('speed~year',data = df).fit()\n",
    "\n",
    "# print the summary can get thoughout understanding of the fitted linear regression\n",
    "\n",
    "print(result.summary())"
   ]
  },
  {
   "cell_type": "code",
   "execution_count": null,
   "metadata": {},
   "outputs": [],
   "source": [
    "# The fitted model is y_hat = -1465 + 0.8x"
   ]
  },
  {
   "cell_type": "code",
   "execution_count": null,
   "metadata": {},
   "outputs": [],
   "source": []
  },
  {
   "cell_type": "code",
   "execution_count": 40,
   "metadata": {},
   "outputs": [
    {
     "name": "stdout",
     "output_type": "stream",
     "text": [
      "total sum of square is : 1072.0\n",
      "regression sum of square is : 960.0\n",
      "residual sum of square is : 112.0\n",
      "residual/error mean square is 16.0\n"
     ]
    }
   ],
   "source": [
    "sumofx = sum(x)\n",
    "sumofy = sum(y)\n",
    "\n",
    "sumofx2 = sum([a*b for a,b in zip(x,x)])\n",
    "sumofy2 = sum([a*b for a,b in zip(y,y)])\n",
    "sumofxy = sum([a*b for a,b in zip(x,y)])\n",
    "\n",
    "Sxx = sumofx2 - (sumofx)**2/len(x)\n",
    "Syy = sumofy2 - (sumofy)**2/len(x)\n",
    "Sxy = sumofxy - (sumofx*sumofy)/len(x)\n",
    "\n",
    "\n",
    "beta_1 = Sxy/Sxx\n",
    "beta_0 = sumofy/len(y) - beta_1*sumofx/len(x)\n",
    "\n",
    "\n",
    "total_sum_of_square = Syy\n",
    "regression_sum_of_square = beta_1*Sxy\n",
    "residual_sum_of_square = Syy - beta_1*Sxy\n",
    "\n",
    "print(\"total sum of square is :\",total_sum_of_square)\n",
    "print(\"regression sum of square is :\", regression_sum_of_square)\n",
    "\n",
    "print(\"residual sum of square is :\", total_sum_of_square-regression_sum_of_square )\n",
    "\n",
    "\n",
    "print(\"residual/error mean square is\", (total_sum_of_square-regression_sum_of_square)/(len(x)-2))"
   ]
  },
  {
   "cell_type": "code",
   "execution_count": 41,
   "metadata": {},
   "outputs": [
    {
     "data": {
      "text/html": [
       "<div>\n",
       "<style>\n",
       "    .dataframe thead tr:only-child th {\n",
       "        text-align: right;\n",
       "    }\n",
       "\n",
       "    .dataframe thead th {\n",
       "        text-align: left;\n",
       "    }\n",
       "\n",
       "    .dataframe tbody tr th {\n",
       "        vertical-align: top;\n",
       "    }\n",
       "</style>\n",
       "<table border=\"1\" class=\"dataframe\">\n",
       "  <thead>\n",
       "    <tr style=\"text-align: right;\">\n",
       "      <th></th>\n",
       "      <th>speed</th>\n",
       "      <th>year</th>\n",
       "    </tr>\n",
       "  </thead>\n",
       "  <tbody>\n",
       "    <tr>\n",
       "      <th>0</th>\n",
       "      <td>109</td>\n",
       "      <td>1965</td>\n",
       "    </tr>\n",
       "    <tr>\n",
       "      <th>1</th>\n",
       "      <td>114</td>\n",
       "      <td>1970</td>\n",
       "    </tr>\n",
       "    <tr>\n",
       "      <th>2</th>\n",
       "      <td>116</td>\n",
       "      <td>1975</td>\n",
       "    </tr>\n",
       "    <tr>\n",
       "      <th>3</th>\n",
       "      <td>117</td>\n",
       "      <td>1980</td>\n",
       "    </tr>\n",
       "    <tr>\n",
       "      <th>4</th>\n",
       "      <td>114</td>\n",
       "      <td>1985</td>\n",
       "    </tr>\n",
       "    <tr>\n",
       "      <th>5</th>\n",
       "      <td>127</td>\n",
       "      <td>1990</td>\n",
       "    </tr>\n",
       "    <tr>\n",
       "      <th>6</th>\n",
       "      <td>131</td>\n",
       "      <td>1995</td>\n",
       "    </tr>\n",
       "    <tr>\n",
       "      <th>7</th>\n",
       "      <td>138</td>\n",
       "      <td>2000</td>\n",
       "    </tr>\n",
       "    <tr>\n",
       "      <th>8</th>\n",
       "      <td>141</td>\n",
       "      <td>2005</td>\n",
       "    </tr>\n",
       "  </tbody>\n",
       "</table>\n",
       "</div>"
      ],
      "text/plain": [
       "   speed  year\n",
       "0    109  1965\n",
       "1    114  1970\n",
       "2    116  1975\n",
       "3    117  1980\n",
       "4    114  1985\n",
       "5    127  1990\n",
       "6    131  1995\n",
       "7    138  2000\n",
       "8    141  2005"
      ]
     },
     "execution_count": 41,
     "metadata": {},
     "output_type": "execute_result"
    }
   ],
   "source": [
    "df"
   ]
  },
  {
   "cell_type": "code",
   "execution_count": 51,
   "metadata": {},
   "outputs": [],
   "source": [
    "new_df = df.drop(df.index[4])"
   ]
  },
  {
   "cell_type": "code",
   "execution_count": 52,
   "metadata": {
    "scrolled": true
   },
   "outputs": [
    {
     "name": "stdout",
     "output_type": "stream",
     "text": [
      "                            OLS Regression Results                            \n",
      "==============================================================================\n",
      "Dep. Variable:                  speed   R-squared:                       0.979\n",
      "Model:                            OLS   Adj. R-squared:                  0.975\n",
      "Method:                 Least Squares   F-statistic:                     275.9\n",
      "Date:                Wed, 28 Mar 2018   Prob (F-statistic):           3.04e-06\n",
      "Time:                        03:18:50   Log-Likelihood:                -15.188\n",
      "No. Observations:                   8   AIC:                             34.38\n",
      "Df Residuals:                       6   BIC:                             34.53\n",
      "Df Model:                           1                                         \n",
      "Covariance Type:            nonrobust                                         \n",
      "==============================================================================\n",
      "                 coef    std err          t      P>|t|      [0.025      0.975]\n",
      "------------------------------------------------------------------------------\n",
      "Intercept  -1463.8750     95.601    -15.312      0.000   -1697.802   -1229.948\n",
      "year           0.8000      0.048     16.611      0.000       0.682       0.918\n",
      "==============================================================================\n",
      "Omnibus:                        0.889   Durbin-Watson:                   1.341\n",
      "Prob(Omnibus):                  0.641   Jarque-Bera (JB):                0.587\n",
      "Skew:                          -0.559   Prob(JB):                        0.746\n",
      "Kurtosis:                       2.285   Cond. No.                     2.88e+05\n",
      "==============================================================================\n",
      "\n",
      "Warnings:\n",
      "[1] Standard Errors assume that the covariance matrix of the errors is correctly specified.\n",
      "[2] The condition number is large, 2.88e+05. This might indicate that there are\n",
      "strong multicollinearity or other numerical problems.\n"
     ]
    },
    {
     "name": "stderr",
     "output_type": "stream",
     "text": [
      "/home/nbuser/anaconda3_501/lib/python3.6/site-packages/scipy/stats/stats.py:1334: UserWarning: kurtosistest only valid for n>=20 ... continuing anyway, n=8\n",
      "  \"anyway, n=%i\" % int(n))\n"
     ]
    }
   ],
   "source": [
    "result = smf.ols('speed~year',data = new_df).fit()\n",
    "\n",
    "# print the summary can get thoughout understanding of the fitted linear regression\n",
    "\n",
    "print(result.summary())"
   ]
  },
  {
   "cell_type": "code",
   "execution_count": null,
   "metadata": {},
   "outputs": [],
   "source": [
    "# The fitted model is y_hat = -1463.875 + 0.8x"
   ]
  },
  {
   "cell_type": "code",
   "execution_count": 67,
   "metadata": {},
   "outputs": [
    {
     "name": "stdout",
     "output_type": "stream",
     "text": [
      "The expected winning speed in 1985 and 2010 are:  124.125 and  144.125 respectively\n"
     ]
    }
   ],
   "source": [
    "new_record = pd.DataFrame(\n",
    "    {'year':[1985,2010]\n",
    "    })\n",
    "\n",
    "res = result.predict(new_record)\n",
    "\n",
    "# res = float(res)\n",
    "\n",
    "print(\"The expected winning speed in 1985 and 2010 are: \",res[0], \"and \", res[1], \"respectively\")\n"
   ]
  },
  {
   "cell_type": "code",
   "execution_count": 83,
   "metadata": {},
   "outputs": [
    {
     "name": "stdout",
     "output_type": "stream",
     "text": [
      "The time by which a winning speed of 160mph is in Year: 2030\n"
     ]
    }
   ],
   "source": [
    "# The equation is : 160 = -1463.875 + 0.8x\n",
    "\n",
    "from sympy.solvers import solve\n",
    "from sympy import Symbol\n",
    "\n",
    "x = Symbol('x')\n",
    "ans = solve(-1463.875+0.8*x-160, x)\n",
    "\n",
    "\n",
    "# Reference:http://docs.sympy.org/latest/modules/solvers/solvers.html\n",
    "\n",
    "print(\"The time by which a winning speed of 160mph is in Year:\", round(float(ans[0])))"
   ]
  },
  {
   "cell_type": "code",
   "execution_count": 89,
   "metadata": {},
   "outputs": [],
   "source": [
    "summary = new_df.describe()"
   ]
  },
  {
   "cell_type": "code",
   "execution_count": 95,
   "metadata": {},
   "outputs": [
    {
     "data": {
      "text/html": [
       "<div>\n",
       "<style>\n",
       "    .dataframe thead tr:only-child th {\n",
       "        text-align: right;\n",
       "    }\n",
       "\n",
       "    .dataframe thead th {\n",
       "        text-align: left;\n",
       "    }\n",
       "\n",
       "    .dataframe tbody tr th {\n",
       "        vertical-align: top;\n",
       "    }\n",
       "</style>\n",
       "<table border=\"1\" class=\"dataframe\">\n",
       "  <thead>\n",
       "    <tr style=\"text-align: right;\">\n",
       "      <th></th>\n",
       "      <th>speed</th>\n",
       "      <th>year</th>\n",
       "    </tr>\n",
       "  </thead>\n",
       "  <tbody>\n",
       "    <tr>\n",
       "      <th>min</th>\n",
       "      <td>109.0</td>\n",
       "      <td>1965.0</td>\n",
       "    </tr>\n",
       "    <tr>\n",
       "      <th>max</th>\n",
       "      <td>141.0</td>\n",
       "      <td>2005.0</td>\n",
       "    </tr>\n",
       "  </tbody>\n",
       "</table>\n",
       "</div>"
      ],
      "text/plain": [
       "     speed    year\n",
       "min  109.0  1965.0\n",
       "max  141.0  2005.0"
      ]
     },
     "execution_count": 95,
     "metadata": {},
     "output_type": "execute_result"
    }
   ],
   "source": [
    "summary.loc[['min','max']]"
   ]
  },
  {
   "cell_type": "code",
   "execution_count": null,
   "metadata": {},
   "outputs": [],
   "source": [
    "# Notice that in (b) the year 2010 is outside the range of year\n",
    "# and in (c) the speed is outside the range of speed,\n",
    "# both would cause extrapolating beyond the range of the data,\n",
    "# therefore, assuming that the fitted trend continues to apply in the future, which may not be true\n"
   ]
  },
  {
   "cell_type": "code",
   "execution_count": null,
   "metadata": {},
   "outputs": [],
   "source": []
  },
  {
   "cell_type": "markdown",
   "metadata": {},
   "source": [
    "# Exercise 5:"
   ]
  },
  {
   "cell_type": "code",
   "execution_count": 108,
   "metadata": {},
   "outputs": [],
   "source": [
    "x = [1.8,3.0,4.0,5.7,7.2,8.4,10.3]\n",
    "t = [3.4,5.9,7.0,8.7,9.5,10.4,11.1]"
   ]
  },
  {
   "cell_type": "code",
   "execution_count": 109,
   "metadata": {},
   "outputs": [
    {
     "name": "stdout",
     "output_type": "stream",
     "text": [
      "                            OLS Regression Results                            \n",
      "==============================================================================\n",
      "Dep. Variable:                      t   R-squared:                       0.931\n",
      "Model:                            OLS   Adj. R-squared:                  0.918\n",
      "Method:                 Least Squares   F-statistic:                     67.97\n",
      "Date:                Wed, 28 Mar 2018   Prob (F-statistic):           0.000428\n",
      "Time:                        04:11:07   Log-Likelihood:                -7.0382\n",
      "No. Observations:                   7   AIC:                             18.08\n",
      "Df Residuals:                       5   BIC:                             17.97\n",
      "Df Model:                           1                                         \n",
      "Covariance Type:            nonrobust                                         \n",
      "==============================================================================\n",
      "                 coef    std err          t      P>|t|      [0.025      0.975]\n",
      "------------------------------------------------------------------------------\n",
      "Intercept      3.0270      0.672      4.506      0.006       1.300       4.754\n",
      "x              0.8617      0.105      8.244      0.000       0.593       1.130\n",
      "==============================================================================\n",
      "Omnibus:                          nan   Durbin-Watson:                   1.111\n",
      "Prob(Omnibus):                    nan   Jarque-Bera (JB):                0.910\n",
      "Skew:                          -0.749   Prob(JB):                        0.634\n",
      "Kurtosis:                       2.065   Cond. No.                         14.9\n",
      "==============================================================================\n",
      "\n",
      "Warnings:\n",
      "[1] Standard Errors assume that the covariance matrix of the errors is correctly specified.\n"
     ]
    },
    {
     "name": "stderr",
     "output_type": "stream",
     "text": [
      "/home/nbuser/anaconda3_501/lib/python3.6/site-packages/statsmodels/stats/stattools.py:72: ValueWarning: omni_normtest is not valid with less than 8 observations; 7 samples were given.\n",
      "  \"samples were given.\" % int(n), ValueWarning)\n"
     ]
    }
   ],
   "source": [
    "import statsmodels.api as sm\n",
    "import statsmodels.formula.api as smf\n",
    "\n",
    "import pandas as pd\n",
    "\n",
    "# using dataframe as the basis for statistical modeling\n",
    "\n",
    "df = pd.DataFrame(\n",
    "    {'x':x,\n",
    "     't':t})\n",
    "\n",
    "# price~length+width meaning that the target variable is price, the predictor are length and width\n",
    "\n",
    "result = smf.ols('t~x',data = df).fit()\n",
    "\n",
    "# print the summary can get thoughout understanding of the fitted linear regression\n",
    "\n",
    "print(result.summary())"
   ]
  },
  {
   "cell_type": "code",
   "execution_count": 110,
   "metadata": {},
   "outputs": [
    {
     "data": {
      "text/plain": [
       "Text(0,0.5,'t')"
      ]
     },
     "execution_count": 110,
     "metadata": {},
     "output_type": "execute_result"
    },
    {
     "data": {
      "image/png": "[encoded data removed]",
      "text/plain": [
       "<matplotlib.figure.Figure at 0x7f8dc7a8d5c0>"
      ]
     },
     "metadata": {},
     "output_type": "display_data"
    }
   ],
   "source": [
    "import matplotlib.pyplot as plt\n",
    "\n",
    "plt.plot(x,y,\"o\")\n",
    "plt.xlabel(\"x\")\n",
    "plt.ylabel(\"t\")"
   ]
  },
  {
   "cell_type": "code",
   "execution_count": 111,
   "metadata": {},
   "outputs": [
    {
     "data": {
      "text/plain": [
       "<matplotlib.axes._subplots.AxesSubplot at 0x7f8dc6feec50>"
      ]
     },
     "execution_count": 111,
     "metadata": {},
     "output_type": "execute_result"
    },
    {
     "data": {
      "image/png": "[encoded data removed]",
      "text/plain": [
       "<matplotlib.figure.Figure at 0x7f8dc729e7f0>"
      ]
     },
     "metadata": {},
     "output_type": "display_data"
    }
   ],
   "source": [
    "import seaborn as sns\n",
    "\n",
    "sns.regplot(x='x', y='t', data=df)"
   ]
  },
  {
   "cell_type": "code",
   "execution_count": null,
   "metadata": {},
   "outputs": [],
   "source": [
    "# Values of t show a strong increasing trend with x, \n",
    "# but the trend appears to be a curve with decreasing gradient, rather than a straight line. \n",
    "# It appears that the straight line model will underestimate the value of t in the middle of the range of x but overestimate the value of t for low or high values of x. "
   ]
  },
  {
   "cell_type": "code",
   "execution_count": null,
   "metadata": {},
   "outputs": [],
   "source": []
  },
  {
   "cell_type": "code",
   "execution_count": 112,
   "metadata": {},
   "outputs": [],
   "source": [
    "import numpy as np\n",
    "logx = np.log(x)"
   ]
  },
  {
   "cell_type": "code",
   "execution_count": 141,
   "metadata": {},
   "outputs": [
    {
     "name": "stdout",
     "output_type": "stream",
     "text": [
      "                            OLS Regression Results                            \n",
      "==============================================================================\n",
      "Dep. Variable:                      t   R-squared:                       0.998\n",
      "Model:                            OLS   Adj. R-squared:                  0.998\n",
      "Method:                 Least Squares   F-statistic:                     2847.\n",
      "Date:                Wed, 28 Mar 2018   Prob (F-statistic):           4.37e-08\n",
      "Time:                        04:20:39   Log-Likelihood:                 5.7922\n",
      "No. Observations:                   7   AIC:                            -7.584\n",
      "Df Residuals:                       5   BIC:                            -7.693\n",
      "Df Model:                           1                                         \n",
      "Covariance Type:            nonrobust                                         \n",
      "==============================================================================\n",
      "                 coef    std err          t      P>|t|      [0.025      0.975]\n",
      "------------------------------------------------------------------------------\n",
      "Intercept      0.9181      0.141      6.516      0.001       0.556       1.280\n",
      "logx           4.4074      0.083     53.360      0.000       4.195       4.620\n",
      "==============================================================================\n",
      "Omnibus:                          nan   Durbin-Watson:                   3.194\n",
      "Prob(Omnibus):                    nan   Jarque-Bera (JB):                0.952\n",
      "Skew:                           0.152   Prob(JB):                        0.621\n",
      "Kurtosis:                       1.219   Cond. No.                         6.68\n",
      "==============================================================================\n",
      "\n",
      "Warnings:\n",
      "[1] Standard Errors assume that the covariance matrix of the errors is correctly specified.\n"
     ]
    },
    {
     "name": "stderr",
     "output_type": "stream",
     "text": [
      "/home/nbuser/anaconda3_501/lib/python3.6/site-packages/statsmodels/stats/stattools.py:72: ValueWarning: omni_normtest is not valid with less than 8 observations; 7 samples were given.\n",
      "  \"samples were given.\" % int(n), ValueWarning)\n"
     ]
    }
   ],
   "source": [
    "df2 = pd.DataFrame(\n",
    "    {'logx':logx,\n",
    "     't':t})\n",
    "\n",
    "# price~length+width meaning that the target variable is price, the predictor are length and width\n",
    "\n",
    "result2 = smf.ols('t~logx',data = df2).fit()\n",
    "\n",
    "# print the summary can get thoughout understanding of the fitted linear regression\n",
    "\n",
    "print(result2.summary())"
   ]
  },
  {
   "cell_type": "code",
   "execution_count": null,
   "metadata": {},
   "outputs": [],
   "source": [
    "# the fitted model is t_hat = 0.9181 +4.4074*logx"
   ]
  },
  {
   "cell_type": "code",
   "execution_count": 115,
   "metadata": {
    "scrolled": true
   },
   "outputs": [
    {
     "data": {
      "text/plain": [
       "<matplotlib.axes._subplots.AxesSubplot at 0x7f8dc771c390>"
      ]
     },
     "execution_count": 115,
     "metadata": {},
     "output_type": "execute_result"
    },
    {
     "data": {
      "image/png": "[encoded data removed]",
      "text/plain": [
       "<matplotlib.figure.Figure at 0x7f8dc7714240>"
      ]
     },
     "metadata": {},
     "output_type": "display_data"
    }
   ],
   "source": [
    "import seaborn as sns\n",
    "\n",
    "sns.regplot(x='logx', y='t', data=df2)"
   ]
  },
  {
   "cell_type": "code",
   "execution_count": 145,
   "metadata": {},
   "outputs": [
    {
     "data": {
      "text/plain": [
       "1.791759469228055"
      ]
     },
     "execution_count": 145,
     "metadata": {},
     "output_type": "execute_result"
    }
   ],
   "source": [
    "math.log(6)"
   ]
  },
  {
   "cell_type": "code",
   "execution_count": 144,
   "metadata": {},
   "outputs": [
    {
     "name": "stdout",
     "output_type": "stream",
     "text": [
      "The predicted value for first model and second model are:  8.19695193435 and  8.81518615408 respectively\n"
     ]
    }
   ],
   "source": [
    "new_record = pd.DataFrame(\n",
    "    {'x':[6]\n",
    "    })\n",
    "\n",
    "res = result.predict(new_record)\n",
    "\n",
    "#new_record2 = math.log(6)\n",
    "\n",
    "new_record2 = pd.DataFrame(\n",
    "    {'logx':[math.log(6)]\n",
    "    })\n",
    "\n",
    "res2 = result2.predict(new_record2)\n",
    "\n",
    "\n",
    "print(\"The predicted value for first model and second model are: \",res[0], \"and \", res2[0], \"respectively\")\n"
   ]
  },
  {
   "cell_type": "code",
   "execution_count": null,
   "metadata": {},
   "outputs": [],
   "source": [
    "# As expected for this middle-range value of x, the first model under-predicts compared with the second, by about 0.6. \n",
    "# The discrepancy far exceeds the observable scatter for the second model, reinforcing the superiority of the second model. "
   ]
  },
  {
   "cell_type": "code",
   "execution_count": null,
   "metadata": {},
   "outputs": [],
   "source": []
  }
 ],
 "metadata": {
  "kernelspec": {
   "display_name": "Python 3",
   "language": "python",
   "name": "python3"
  },
  "language_info": {
   "codemirror_mode": {
    "name": "ipython",
    "version": 3
   },
   "file_extension": ".py",
   "mimetype": "text/x-python",
   "name": "python",
   "nbconvert_exporter": "python",
   "pygments_lexer": "ipython3",
   "version": "3.6.3"
  }
 },
 "nbformat": 4,
 "nbformat_minor": 2
}
