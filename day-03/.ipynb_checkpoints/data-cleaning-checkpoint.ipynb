{
 "cells": [
  {
   "cell_type": "markdown",
   "metadata": {},
   "source": [
    "# Open Rice\n",
    "\n",
    "** 1.) ** We scrapped a data set from open rice but it needs cleaning:\n",
    "\n",
    "* Remove duplicate data\n",
    "* Use a regex to clean the review col\n",
    "* Remove the trailing commar from the adress col\n"
   ]
  },
  {
   "cell_type": "code",
   "execution_count": 1,
   "metadata": {},
   "outputs": [],
   "source": [
    "import pandas as pd"
   ]
  },
  {
   "cell_type": "code",
   "execution_count": 75,
   "metadata": {},
   "outputs": [],
   "source": [
    "openrice = pd.read_csv(\"data/open-rice.csv\")"
   ]
  },
  {
   "cell_type": "code",
   "execution_count": 76,
   "metadata": {},
   "outputs": [
    {
     "data": {
      "text/html": [
       "<div>\n",
       "<style scoped>\n",
       "    .dataframe tbody tr th:only-of-type {\n",
       "        vertical-align: middle;\n",
       "    }\n",
       "\n",
       "    .dataframe tbody tr th {\n",
       "        vertical-align: top;\n",
       "    }\n",
       "\n",
       "    .dataframe thead th {\n",
       "        text-align: right;\n",
       "    }\n",
       "</style>\n",
       "<table border=\"1\" class=\"dataframe\">\n",
       "  <thead>\n",
       "    <tr style=\"text-align: right;\">\n",
       "      <th></th>\n",
       "      <th>address</th>\n",
       "      <th>bookmarks</th>\n",
       "      <th>dislikes</th>\n",
       "      <th>food_type</th>\n",
       "      <th>likes</th>\n",
       "      <th>name</th>\n",
       "      <th>number_of_reviews</th>\n",
       "      <th>price_range</th>\n",
       "    </tr>\n",
       "  </thead>\n",
       "  <tbody>\n",
       "    <tr>\n",
       "      <th>0</th>\n",
       "      <td>Shop J-K., 200 Hollywood Road,</td>\n",
       "      <td>5838</td>\n",
       "      <td>6</td>\n",
       "      <td>Hong Kong Style</td>\n",
       "      <td>78</td>\n",
       "      <td>For Kee Restaurant 科記咖啡餐室</td>\n",
       "      <td>(133 Reviews)</td>\n",
       "      <td>Below $50</td>\n",
       "    </tr>\n",
       "    <tr>\n",
       "      <th>1</th>\n",
       "      <td>G/F, 108 Hollywood Road,</td>\n",
       "      <td>3492</td>\n",
       "      <td>2</td>\n",
       "      <td>International</td>\n",
       "      <td>20</td>\n",
       "      <td>Blue · Butcher &amp; Meat Specialist</td>\n",
       "      <td>(30 Reviews)</td>\n",
       "      <td>$201-400</td>\n",
       "    </tr>\n",
       "    <tr>\n",
       "      <th>2</th>\n",
       "      <td>G/F, 206 Hollywood Road,</td>\n",
       "      <td>5517</td>\n",
       "      <td>5</td>\n",
       "      <td>Thai</td>\n",
       "      <td>31</td>\n",
       "      <td>Chachawan</td>\n",
       "      <td>(43 Reviews)</td>\n",
       "      <td>$201-400</td>\n",
       "    </tr>\n",
       "    <tr>\n",
       "      <th>3</th>\n",
       "      <td>Shop 3018, 3/F, Shun Tak Centre, 168-200 Conna...</td>\n",
       "      <td>1173</td>\n",
       "      <td>1</td>\n",
       "      <td>Hong Kong Style</td>\n",
       "      <td>23</td>\n",
       "      <td>Capital Café 華星冰室</td>\n",
       "      <td>(39 Reviews)</td>\n",
       "      <td>Below $50</td>\n",
       "    </tr>\n",
       "    <tr>\n",
       "      <th>4</th>\n",
       "      <td>G/F, 38 Queens Road West,</td>\n",
       "      <td>1064</td>\n",
       "      <td>1</td>\n",
       "      <td>Indian</td>\n",
       "      <td>50</td>\n",
       "      <td>Namaste Kitchen 滋味廚房</td>\n",
       "      <td>(57 Reviews)</td>\n",
       "      <td>$51-100</td>\n",
       "    </tr>\n",
       "  </tbody>\n",
       "</table>\n",
       "</div>"
      ],
      "text/plain": [
       "                                             address  bookmarks  dislikes  \\\n",
       "0                     Shop J-K., 200 Hollywood Road,       5838         6   \n",
       "1                           G/F, 108 Hollywood Road,       3492         2   \n",
       "2                           G/F, 206 Hollywood Road,       5517         5   \n",
       "3  Shop 3018, 3/F, Shun Tak Centre, 168-200 Conna...       1173         1   \n",
       "4                          G/F, 38 Queens Road West,       1064         1   \n",
       "\n",
       "         food_type  likes                              name number_of_reviews  \\\n",
       "0  Hong Kong Style     78         For Kee Restaurant 科記咖啡餐室     (133 Reviews)   \n",
       "1    International     20  Blue · Butcher & Meat Specialist      (30 Reviews)   \n",
       "2             Thai     31                         Chachawan      (43 Reviews)   \n",
       "3  Hong Kong Style     23                 Capital Café 華星冰室      (39 Reviews)   \n",
       "4           Indian     50              Namaste Kitchen 滋味廚房      (57 Reviews)   \n",
       "\n",
       "  price_range  \n",
       "0   Below $50  \n",
       "1    $201-400  \n",
       "2    $201-400  \n",
       "3   Below $50  \n",
       "4     $51-100  "
      ]
     },
     "execution_count": 76,
     "metadata": {},
     "output_type": "execute_result"
    }
   ],
   "source": [
    "openrice.head()"
   ]
  },
  {
   "cell_type": "markdown",
   "metadata": {},
   "source": [
    "** 2.) ** Which resturant in Hong Kong is the most favorable? In terms of likes, in terms of bookmarks?"
   ]
  },
  {
   "cell_type": "code",
   "execution_count": null,
   "metadata": {},
   "outputs": [],
   "source": []
  },
  {
   "cell_type": "markdown",
   "metadata": {},
   "source": [
    "** 3.) ** What is the price range for the whole open rice dataset?"
   ]
  },
  {
   "cell_type": "code",
   "execution_count": null,
   "metadata": {},
   "outputs": [],
   "source": []
  },
  {
   "cell_type": "markdown",
   "metadata": {},
   "source": [
    "** 4.) ** By grouping price_range with mean and median, what can you observe from bookmarks and likes?\n"
   ]
  },
  {
   "cell_type": "code",
   "execution_count": null,
   "metadata": {},
   "outputs": [],
   "source": []
  },
  {
   "cell_type": "markdown",
   "metadata": {},
   "source": [
    "There's to many resturants types, this can hinder the analysis. Lets make a new column for HK Style Resturants."
   ]
  },
  {
   "cell_type": "code",
   "execution_count": 77,
   "metadata": {},
   "outputs": [],
   "source": [
    "def hkstyle_to_numeric(x):\n",
    "    if x in ['Hong Kong Style','Dai Pai Dong','Dim Sum Restaurant','Noodles/Rice Noodles']:\n",
    "        return \"HKresturant\"\n",
    "    else:\n",
    "        return \"Non-HKresturant\"\n"
   ]
  },
  {
   "cell_type": "code",
   "execution_count": 78,
   "metadata": {},
   "outputs": [],
   "source": [
    "# we can use .apply to generate new columns for it\n",
    "openrice['HKresturant'] = openrice['food_type'].apply(hkstyle_to_numeric)  "
   ]
  },
  {
   "cell_type": "code",
   "execution_count": 79,
   "metadata": {},
   "outputs": [
    {
     "data": {
      "text/html": [
       "<div>\n",
       "<style scoped>\n",
       "    .dataframe tbody tr th:only-of-type {\n",
       "        vertical-align: middle;\n",
       "    }\n",
       "\n",
       "    .dataframe tbody tr th {\n",
       "        vertical-align: top;\n",
       "    }\n",
       "\n",
       "    .dataframe thead th {\n",
       "        text-align: right;\n",
       "    }\n",
       "</style>\n",
       "<table border=\"1\" class=\"dataframe\">\n",
       "  <thead>\n",
       "    <tr style=\"text-align: right;\">\n",
       "      <th></th>\n",
       "      <th>address</th>\n",
       "      <th>bookmarks</th>\n",
       "      <th>dislikes</th>\n",
       "      <th>food_type</th>\n",
       "      <th>likes</th>\n",
       "      <th>name</th>\n",
       "      <th>number_of_reviews</th>\n",
       "      <th>price_range</th>\n",
       "      <th>HKresturant</th>\n",
       "    </tr>\n",
       "  </thead>\n",
       "  <tbody>\n",
       "    <tr>\n",
       "      <th>0</th>\n",
       "      <td>Shop J-K., 200 Hollywood Road,</td>\n",
       "      <td>5838</td>\n",
       "      <td>6</td>\n",
       "      <td>Hong Kong Style</td>\n",
       "      <td>78</td>\n",
       "      <td>For Kee Restaurant 科記咖啡餐室</td>\n",
       "      <td>(133 Reviews)</td>\n",
       "      <td>Below $50</td>\n",
       "      <td>HKresturant</td>\n",
       "    </tr>\n",
       "    <tr>\n",
       "      <th>1</th>\n",
       "      <td>G/F, 108 Hollywood Road,</td>\n",
       "      <td>3492</td>\n",
       "      <td>2</td>\n",
       "      <td>International</td>\n",
       "      <td>20</td>\n",
       "      <td>Blue · Butcher &amp; Meat Specialist</td>\n",
       "      <td>(30 Reviews)</td>\n",
       "      <td>$201-400</td>\n",
       "      <td>Non-HKresturant</td>\n",
       "    </tr>\n",
       "    <tr>\n",
       "      <th>2</th>\n",
       "      <td>G/F, 206 Hollywood Road,</td>\n",
       "      <td>5517</td>\n",
       "      <td>5</td>\n",
       "      <td>Thai</td>\n",
       "      <td>31</td>\n",
       "      <td>Chachawan</td>\n",
       "      <td>(43 Reviews)</td>\n",
       "      <td>$201-400</td>\n",
       "      <td>Non-HKresturant</td>\n",
       "    </tr>\n",
       "    <tr>\n",
       "      <th>3</th>\n",
       "      <td>Shop 3018, 3/F, Shun Tak Centre, 168-200 Conna...</td>\n",
       "      <td>1173</td>\n",
       "      <td>1</td>\n",
       "      <td>Hong Kong Style</td>\n",
       "      <td>23</td>\n",
       "      <td>Capital Café 華星冰室</td>\n",
       "      <td>(39 Reviews)</td>\n",
       "      <td>Below $50</td>\n",
       "      <td>HKresturant</td>\n",
       "    </tr>\n",
       "    <tr>\n",
       "      <th>4</th>\n",
       "      <td>G/F, 38 Queens Road West,</td>\n",
       "      <td>1064</td>\n",
       "      <td>1</td>\n",
       "      <td>Indian</td>\n",
       "      <td>50</td>\n",
       "      <td>Namaste Kitchen 滋味廚房</td>\n",
       "      <td>(57 Reviews)</td>\n",
       "      <td>$51-100</td>\n",
       "      <td>Non-HKresturant</td>\n",
       "    </tr>\n",
       "  </tbody>\n",
       "</table>\n",
       "</div>"
      ],
      "text/plain": [
       "                                             address  bookmarks  dislikes  \\\n",
       "0                     Shop J-K., 200 Hollywood Road,       5838         6   \n",
       "1                           G/F, 108 Hollywood Road,       3492         2   \n",
       "2                           G/F, 206 Hollywood Road,       5517         5   \n",
       "3  Shop 3018, 3/F, Shun Tak Centre, 168-200 Conna...       1173         1   \n",
       "4                          G/F, 38 Queens Road West,       1064         1   \n",
       "\n",
       "         food_type  likes                              name number_of_reviews  \\\n",
       "0  Hong Kong Style     78         For Kee Restaurant 科記咖啡餐室     (133 Reviews)   \n",
       "1    International     20  Blue · Butcher & Meat Specialist      (30 Reviews)   \n",
       "2             Thai     31                         Chachawan      (43 Reviews)   \n",
       "3  Hong Kong Style     23                 Capital Café 華星冰室      (39 Reviews)   \n",
       "4           Indian     50              Namaste Kitchen 滋味廚房      (57 Reviews)   \n",
       "\n",
       "  price_range      HKresturant  \n",
       "0   Below $50      HKresturant  \n",
       "1    $201-400  Non-HKresturant  \n",
       "2    $201-400  Non-HKresturant  \n",
       "3   Below $50      HKresturant  \n",
       "4     $51-100  Non-HKresturant  "
      ]
     },
     "execution_count": 79,
     "metadata": {},
     "output_type": "execute_result"
    }
   ],
   "source": [
    "openrice.head()"
   ]
  },
  {
   "cell_type": "markdown",
   "metadata": {},
   "source": [
    "** 5.) ** Select price_range, likes, bookmarks,  HKresturant as a new dataframe "
   ]
  },
  {
   "cell_type": "code",
   "execution_count": 84,
   "metadata": {},
   "outputs": [],
   "source": [
    "openrice2 = openrice[[\"price_range\",\"likes\",\"bookmarks\",\"HKresturant\"]]"
   ]
  },
  {
   "cell_type": "markdown",
   "metadata": {},
   "source": [
    "** 6.) ** Use your new dataframe make box plot and violin plots"
   ]
  },
  {
   "cell_type": "code",
   "execution_count": 81,
   "metadata": {},
   "outputs": [],
   "source": [
    "import seaborn as sns\n",
    "%matplotlib inline"
   ]
  },
  {
   "cell_type": "code",
   "execution_count": 69,
   "metadata": {
    "scrolled": true
   },
   "outputs": [
    {
     "data": {
      "image/png": "[encoded data removed]",
      "text/plain": [
       "<matplotlib.figure.Figure at 0x7f0784bb97f0>"
      ]
     },
     "metadata": {},
     "output_type": "display_data"
    }
   ],
   "source": [
    "#Should look something like this"
   ]
  },
  {
   "cell_type": "code",
   "execution_count": 64,
   "metadata": {
    "scrolled": true
   },
   "outputs": [
    {
     "data": {
      "image/png": "[encoded data removed]",
      "text/plain": [
       "<matplotlib.figure.Figure at 0x7f07853499b0>"
      ]
     },
     "metadata": {},
     "output_type": "display_data"
    }
   ],
   "source": [
    "#and this"
   ]
  },
  {
   "cell_type": "markdown",
   "metadata": {},
   "source": [
    "# Unicef Data\n",
    "\n",
    "When working with data we may aberiviate the columns names to make them simpler to type. However we need to be anle to change them back \n"
   ]
  },
  {
   "cell_type": "code",
   "execution_count": 2,
   "metadata": {},
   "outputs": [],
   "source": [
    "import pandas as pd"
   ]
  },
  {
   "cell_type": "code",
   "execution_count": 3,
   "metadata": {},
   "outputs": [
    {
     "name": "stderr",
     "output_type": "stream",
     "text": [
      "/home/dom/anaconda3/lib/python3.6/site-packages/IPython/core/interactiveshell.py:2728: DtypeWarning: Columns (110,111,112,120) have mixed types. Specify dtype option on import or set low_memory=False.\n",
      "  interactivity=interactivity, compiler=compiler, result=result)\n"
     ]
    }
   ],
   "source": [
    "df = pd.read_csv(\"https://raw.githubusercontent.com/jackiekazil/data-wrangling/master/data/unicef/mn.csv\")"
   ]
  },
  {
   "cell_type": "code",
   "execution_count": 9,
   "metadata": {},
   "outputs": [
    {
     "data": {
      "text/html": [
       "<div>\n",
       "<style scoped>\n",
       "    .dataframe tbody tr th:only-of-type {\n",
       "        vertical-align: middle;\n",
       "    }\n",
       "\n",
       "    .dataframe tbody tr th {\n",
       "        vertical-align: top;\n",
       "    }\n",
       "\n",
       "    .dataframe thead th {\n",
       "        text-align: right;\n",
       "    }\n",
       "</style>\n",
       "<table border=\"1\" class=\"dataframe\">\n",
       "  <thead>\n",
       "    <tr style=\"text-align: right;\">\n",
       "      <th></th>\n",
       "      <th>Unnamed: 0</th>\n",
       "      <th>HH1</th>\n",
       "      <th>HH2</th>\n",
       "      <th>LN</th>\n",
       "      <th>MWM1</th>\n",
       "      <th>MWM2</th>\n",
       "      <th>MWM4</th>\n",
       "      <th>MWM5</th>\n",
       "      <th>MWM6D</th>\n",
       "      <th>MWM6M</th>\n",
       "      <th>...</th>\n",
       "      <th>MCSURV</th>\n",
       "      <th>MCDEAD</th>\n",
       "      <th>mwelevel</th>\n",
       "      <th>mnweight</th>\n",
       "      <th>wscore</th>\n",
       "      <th>windex5</th>\n",
       "      <th>wscoreu</th>\n",
       "      <th>windex5u</th>\n",
       "      <th>wscorer</th>\n",
       "      <th>windex5r</th>\n",
       "    </tr>\n",
       "  </thead>\n",
       "  <tbody>\n",
       "    <tr>\n",
       "      <th>0</th>\n",
       "      <td>1</td>\n",
       "      <td>1</td>\n",
       "      <td>17</td>\n",
       "      <td>1</td>\n",
       "      <td>1</td>\n",
       "      <td>17</td>\n",
       "      <td>1</td>\n",
       "      <td>14</td>\n",
       "      <td>7</td>\n",
       "      <td>4</td>\n",
       "      <td>...</td>\n",
       "      <td>0.0</td>\n",
       "      <td>0.0</td>\n",
       "      <td>Higher</td>\n",
       "      <td>0.403797</td>\n",
       "      <td>1.603670</td>\n",
       "      <td>5</td>\n",
       "      <td>1.272552</td>\n",
       "      <td>5.0</td>\n",
       "      <td>NaN</td>\n",
       "      <td>NaN</td>\n",
       "    </tr>\n",
       "    <tr>\n",
       "      <th>1</th>\n",
       "      <td>2</td>\n",
       "      <td>1</td>\n",
       "      <td>20</td>\n",
       "      <td>1</td>\n",
       "      <td>1</td>\n",
       "      <td>20</td>\n",
       "      <td>1</td>\n",
       "      <td>14</td>\n",
       "      <td>7</td>\n",
       "      <td>4</td>\n",
       "      <td>...</td>\n",
       "      <td>0.0</td>\n",
       "      <td>0.0</td>\n",
       "      <td>Higher</td>\n",
       "      <td>0.403797</td>\n",
       "      <td>1.543277</td>\n",
       "      <td>5</td>\n",
       "      <td>1.089026</td>\n",
       "      <td>5.0</td>\n",
       "      <td>NaN</td>\n",
       "      <td>NaN</td>\n",
       "    </tr>\n",
       "    <tr>\n",
       "      <th>2</th>\n",
       "      <td>3</td>\n",
       "      <td>2</td>\n",
       "      <td>1</td>\n",
       "      <td>1</td>\n",
       "      <td>2</td>\n",
       "      <td>1</td>\n",
       "      <td>1</td>\n",
       "      <td>9</td>\n",
       "      <td>8</td>\n",
       "      <td>4</td>\n",
       "      <td>...</td>\n",
       "      <td>3.0</td>\n",
       "      <td>0.0</td>\n",
       "      <td>Primary</td>\n",
       "      <td>1.031926</td>\n",
       "      <td>0.878635</td>\n",
       "      <td>4</td>\n",
       "      <td>-0.930721</td>\n",
       "      <td>1.0</td>\n",
       "      <td>NaN</td>\n",
       "      <td>NaN</td>\n",
       "    </tr>\n",
       "    <tr>\n",
       "      <th>3</th>\n",
       "      <td>4</td>\n",
       "      <td>2</td>\n",
       "      <td>1</td>\n",
       "      <td>5</td>\n",
       "      <td>2</td>\n",
       "      <td>1</td>\n",
       "      <td>5</td>\n",
       "      <td>9</td>\n",
       "      <td>12</td>\n",
       "      <td>4</td>\n",
       "      <td>...</td>\n",
       "      <td>NaN</td>\n",
       "      <td>NaN</td>\n",
       "      <td>NaN</td>\n",
       "      <td>0.000000</td>\n",
       "      <td>0.000000</td>\n",
       "      <td>0</td>\n",
       "      <td>0.000000</td>\n",
       "      <td>0.0</td>\n",
       "      <td>0.0</td>\n",
       "      <td>0.0</td>\n",
       "    </tr>\n",
       "    <tr>\n",
       "      <th>4</th>\n",
       "      <td>5</td>\n",
       "      <td>2</td>\n",
       "      <td>1</td>\n",
       "      <td>8</td>\n",
       "      <td>2</td>\n",
       "      <td>1</td>\n",
       "      <td>8</td>\n",
       "      <td>9</td>\n",
       "      <td>8</td>\n",
       "      <td>4</td>\n",
       "      <td>...</td>\n",
       "      <td>0.0</td>\n",
       "      <td>0.0</td>\n",
       "      <td>Secondary</td>\n",
       "      <td>1.031926</td>\n",
       "      <td>0.878635</td>\n",
       "      <td>4</td>\n",
       "      <td>-0.930721</td>\n",
       "      <td>1.0</td>\n",
       "      <td>NaN</td>\n",
       "      <td>NaN</td>\n",
       "    </tr>\n",
       "  </tbody>\n",
       "</table>\n",
       "<p>5 rows × 159 columns</p>\n",
       "</div>"
      ],
      "text/plain": [
       "   Unnamed: 0  HH1  HH2  LN  MWM1  MWM2  MWM4  MWM5  MWM6D  MWM6M    ...     \\\n",
       "0           1    1   17   1     1    17     1    14      7      4    ...      \n",
       "1           2    1   20   1     1    20     1    14      7      4    ...      \n",
       "2           3    2    1   1     2     1     1     9      8      4    ...      \n",
       "3           4    2    1   5     2     1     5     9     12      4    ...      \n",
       "4           5    2    1   8     2     1     8     9      8      4    ...      \n",
       "\n",
       "   MCSURV MCDEAD   mwelevel  mnweight    wscore  windex5   wscoreu  windex5u  \\\n",
       "0     0.0    0.0     Higher  0.403797  1.603670        5  1.272552       5.0   \n",
       "1     0.0    0.0     Higher  0.403797  1.543277        5  1.089026       5.0   \n",
       "2     3.0    0.0    Primary  1.031926  0.878635        4 -0.930721       1.0   \n",
       "3     NaN    NaN        NaN  0.000000  0.000000        0  0.000000       0.0   \n",
       "4     0.0    0.0  Secondary  1.031926  0.878635        4 -0.930721       1.0   \n",
       "\n",
       "   wscorer  windex5r  \n",
       "0      NaN       NaN  \n",
       "1      NaN       NaN  \n",
       "2      NaN       NaN  \n",
       "3      0.0       0.0  \n",
       "4      NaN       NaN  \n",
       "\n",
       "[5 rows x 159 columns]"
      ]
     },
     "execution_count": 9,
     "metadata": {},
     "output_type": "execute_result"
    }
   ],
   "source": [
    "df.head()"
   ]
  },
  {
   "cell_type": "markdown",
   "metadata": {},
   "source": [
    " ** 1.) ** Drop the unnamed column"
   ]
  },
  {
   "cell_type": "code",
   "execution_count": null,
   "metadata": {},
   "outputs": [],
   "source": []
  },
  {
   "cell_type": "markdown",
   "metadata": {},
   "source": [
    "** 2.) ** Use the data in `header_df` to replace the `Name` with it's `Label` in the original dataframe."
   ]
  },
  {
   "cell_type": "code",
   "execution_count": 4,
   "metadata": {},
   "outputs": [],
   "source": [
    "header_df = pd.read_csv(\"https://raw.githubusercontent.com/jackiekazil/data-wrangling/master/data/unicef/mn_headers.csv\")"
   ]
  },
  {
   "cell_type": "code",
   "execution_count": 5,
   "metadata": {},
   "outputs": [
    {
     "data": {
      "text/html": [
       "<div>\n",
       "<style scoped>\n",
       "    .dataframe tbody tr th:only-of-type {\n",
       "        vertical-align: middle;\n",
       "    }\n",
       "\n",
       "    .dataframe tbody tr th {\n",
       "        vertical-align: top;\n",
       "    }\n",
       "\n",
       "    .dataframe thead th {\n",
       "        text-align: right;\n",
       "    }\n",
       "</style>\n",
       "<table border=\"1\" class=\"dataframe\">\n",
       "  <thead>\n",
       "    <tr style=\"text-align: right;\">\n",
       "      <th></th>\n",
       "      <th>Name</th>\n",
       "      <th>Label</th>\n",
       "      <th>Question</th>\n",
       "    </tr>\n",
       "  </thead>\n",
       "  <tbody>\n",
       "    <tr>\n",
       "      <th>0</th>\n",
       "      <td>HH1</td>\n",
       "      <td>Cluster number</td>\n",
       "      <td>NaN</td>\n",
       "    </tr>\n",
       "    <tr>\n",
       "      <th>1</th>\n",
       "      <td>HH2</td>\n",
       "      <td>Household number</td>\n",
       "      <td>NaN</td>\n",
       "    </tr>\n",
       "    <tr>\n",
       "      <th>2</th>\n",
       "      <td>LN</td>\n",
       "      <td>Line number</td>\n",
       "      <td>NaN</td>\n",
       "    </tr>\n",
       "    <tr>\n",
       "      <th>3</th>\n",
       "      <td>MWM1</td>\n",
       "      <td>Cluster number</td>\n",
       "      <td>NaN</td>\n",
       "    </tr>\n",
       "    <tr>\n",
       "      <th>4</th>\n",
       "      <td>MWM2</td>\n",
       "      <td>Household number</td>\n",
       "      <td>NaN</td>\n",
       "    </tr>\n",
       "  </tbody>\n",
       "</table>\n",
       "</div>"
      ],
      "text/plain": [
       "   Name             Label Question\n",
       "0   HH1    Cluster number      NaN\n",
       "1   HH2  Household number      NaN\n",
       "2    LN       Line number      NaN\n",
       "3  MWM1    Cluster number      NaN\n",
       "4  MWM2  Household number      NaN"
      ]
     },
     "execution_count": 5,
     "metadata": {},
     "output_type": "execute_result"
    }
   ],
   "source": [
    "header_df.head()"
   ]
  },
  {
   "cell_type": "markdown",
   "metadata": {},
   "source": [
    "# Ricacorp\n",
    "\n",
    "** 1.) ** Reading in the file. *Hint*  Which type of format it is? Also you'll need to change the encoding to 'utf-16'"
   ]
  },
  {
   "cell_type": "code",
   "execution_count": null,
   "metadata": {},
   "outputs": [],
   "source": []
  },
  {
   "cell_type": "markdown",
   "metadata": {},
   "source": [
    "** 2.) ** Remove the useless columns like web-scraper-order, pagination etc."
   ]
  },
  {
   "cell_type": "code",
   "execution_count": null,
   "metadata": {},
   "outputs": [],
   "source": []
  },
  {
   "cell_type": "markdown",
   "metadata": {},
   "source": [
    "** 3.) ** *Bonus* - In collumns that should be numerical use regular expressions to get the numbers and convert the columns from strings to numerical."
   ]
  },
  {
   "cell_type": "code",
   "execution_count": null,
   "metadata": {},
   "outputs": [],
   "source": []
  }
 ],
 "metadata": {
  "kernelspec": {
   "display_name": "Python 3",
   "language": "python",
   "name": "python3"
  },
  "language_info": {
   "codemirror_mode": {
    "name": "ipython",
    "version": 3
   },
   "file_extension": ".py",
   "mimetype": "text/x-python",
   "name": "python",
   "nbconvert_exporter": "python",
   "pygments_lexer": "ipython3",
   "version": "3.6.3"
  }
 },
 "nbformat": 4,
 "nbformat_minor": 2
}
