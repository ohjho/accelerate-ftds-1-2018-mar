{
 "cells": [
  {
   "cell_type": "markdown",
   "metadata": {},
   "source": [
    "# Introduction - Simple linear regression\n",
    "\n",
    "### Worked Example:\n",
    "\n",
    "### Suppose the manager of an oil refinery measures the percentage yield of petroleum spirit y and the specific gravity of crude oil x on seven separate occasions. The data, arranged in order of increasing x-values, are donated in the following list"
   ]
  },
  {
   "cell_type": "code",
   "execution_count": 1,
   "metadata": {},
   "outputs": [],
   "source": [
    "x = [30.2,32.8,32.9,35.1,42.3,45.5,46]\n",
    "y = [6.8,10.1,14.3,19.3,10.2,20.0,23.7]"
   ]
  },
  {
   "cell_type": "markdown",
   "metadata": {},
   "source": [
    "### Exercise 1:\n",
    "\n",
    "### Using Scatter diagram to visualize the pattern and comment briefly on the suitability of carrying out a simple linear regression analysis on these data."
   ]
  },
  {
   "cell_type": "code",
   "execution_count": 3,
   "metadata": {},
   "outputs": [
    {
     "data": {
      "text/plain": [
       "Text(0,0.5,'y')"
      ]
     },
     "execution_count": 3,
     "metadata": {},
     "output_type": "execute_result"
    },
    {
     "data": {
      "image/png": "[encoded data removed]",
      "text/plain": [
       "<matplotlib.figure.Figure at 0x7f6693e75630>"
      ]
     },
     "metadata": {},
     "output_type": "display_data"
    }
   ],
   "source": [
    "import matplotlib.pyplot as plt\n",
    "\n",
    "plt.plot(x,y,\"o\")\n",
    "plt.xlabel(\"x\")\n",
    "plt.ylabel(\"y\")\n",
    "\n",
    "# from the scatter plot, weak correlation so a linear regression model may not be particular good fit"
   ]
  },
  {
   "cell_type": "markdown",
   "metadata": {},
   "source": [
    "### Exercise 2:\n",
    "\n",
    "### Fit a simple linear regression model to these data, showing details of your calculations.  "
   ]
  },
  {
   "cell_type": "code",
   "execution_count": 4,
   "metadata": {},
   "outputs": [
    {
     "data": {
      "text/plain": [
       "array([ 0.63985891, -9.29066293])"
      ]
     },
     "execution_count": 4,
     "metadata": {},
     "output_type": "execute_result"
    }
   ],
   "source": [
    "# We can fit a polynomial with degree 1 as linear regression\n",
    "\n",
    "import numpy as np\n",
    "np.polyfit(x,y,1)"
   ]
  },
  {
   "cell_type": "code",
   "execution_count": 5,
   "metadata": {},
   "outputs": [
    {
     "data": {
      "text/plain": [
       "LinregressResult(slope=0.63985891425316577, intercept=-9.290662927748329, rvalue=0.67568378219625957, pvalue=0.095703640847981122, stderr=0.31220229699197538)"
      ]
     },
     "execution_count": 5,
     "metadata": {},
     "output_type": "execute_result"
    }
   ],
   "source": [
    "# We can also use scipy.stats to get the linear regression\n",
    "\n",
    "import scipy\n",
    "import scipy.stats\n",
    "\n",
    "scipy.stats.linregress(x,y)"
   ]
  },
  {
   "cell_type": "code",
   "execution_count": 6,
   "metadata": {},
   "outputs": [
    {
     "name": "stdout",
     "output_type": "stream",
     "text": [
      "                            OLS Regression Results                            \n",
      "==============================================================================\n",
      "Dep. Variable:                      y   R-squared:                       0.457\n",
      "Model:                            OLS   Adj. R-squared:                  0.348\n",
      "Method:                 Least Squares   F-statistic:                     4.200\n",
      "Date:                Mon, 26 Mar 2018   Prob (F-statistic):             0.0957\n",
      "Time:                        13:34:52   Log-Likelihood:                -20.080\n",
      "No. Observations:                   7   AIC:                             44.16\n",
      "Df Residuals:                       5   BIC:                             44.05\n",
      "Df Model:                           1                                         \n",
      "Covariance Type:            nonrobust                                         \n",
      "==============================================================================\n",
      "                 coef    std err          t      P>|t|      [95.0% Conf. Int.]\n",
      "------------------------------------------------------------------------------\n",
      "Intercept     -9.2907     11.963     -0.777      0.473       -40.042    21.461\n",
      "x              0.6399      0.312      2.050      0.096        -0.163     1.442\n",
      "==============================================================================\n",
      "Omnibus:                          nan   Durbin-Watson:                   2.298\n",
      "Prob(Omnibus):                    nan   Jarque-Bera (JB):                0.328\n",
      "Skew:                          -0.334   Prob(JB):                        0.849\n",
      "Kurtosis:                       2.176   Cond. No.                         241.\n",
      "==============================================================================\n",
      "\n",
      "Warnings:\n",
      "[1] Standard Errors assume that the covariance matrix of the errors is correctly specified.\n"
     ]
    },
    {
     "name": "stderr",
     "output_type": "stream",
     "text": [
      "/home/nbuser/anaconda3_420/lib/python3.5/site-packages/statsmodels/stats/stattools.py:72: UserWarning: omni_normtest is not valid with less than 8 observations; 7 samples were given.\n",
      "  \"samples were given.\" % int(n))\n"
     ]
    }
   ],
   "source": [
    "# In fact, Python statsmodels is working towards R style to linear regression\n",
    "\n",
    "import statsmodels.api as sm\n",
    "import statsmodels.formula.api as smf\n",
    "\n",
    "import pandas as pd\n",
    "\n",
    "# using dataframe as the basis for statistical modeling\n",
    "\n",
    "df = pd.DataFrame(\n",
    "    {'x':x,\n",
    "     'y':y})\n",
    "\n",
    "# y~x meaning that the target variable is y, the predictor is x\n",
    "\n",
    "result = smf.ols('y~x',data = df).fit()\n",
    "\n",
    "# print the summary can get thoughout understanding of the fitted linear regression\n",
    "\n",
    "print(result.summary())\n",
    "\n",
    "# we see that the R-squared is low 0.457, which shows that the linear model y_hat = -9.2907 + 0.6399x is not explaining the data well\n",
    "\n"
   ]
  },
  {
   "cell_type": "code",
   "execution_count": 7,
   "metadata": {},
   "outputs": [
    {
     "name": "stdout",
     "output_type": "stream",
     "text": [
      "Coefficients: \n",
      " [[ 0.63985891]]\n",
      "Slope: \n",
      " [-9.29066293]\n"
     ]
    }
   ],
   "source": [
    "# We can also use sklearn package for machine learning task, note that linear regression is one of the simplest machine learning\n",
    "\n",
    "from sklearn import linear_model\n",
    "import numpy as np\n",
    "\n",
    "# in sklearn, data better transform as numpy array, most often, numpy array appears in machine learning(i.e. sklearn package) as well as deep learning(i.e. Keras package)\n",
    "\n",
    "x = np.asarray(x)\n",
    "y = np.asarray(y)\n",
    "\n",
    "x = x.reshape(-1, 1) \n",
    "y = y.reshape(-1, 1) \n",
    "\n",
    "\n",
    "\n",
    "model = linear_model.LinearRegression()\n",
    "\n",
    "model = model.fit(x,y)\n",
    "\n",
    "\n",
    "# The coefficients\n",
    "print('Coefficients: \\n', model.coef_)\n",
    "print('Slope: \\n', model.intercept_)\n",
    "\n"
   ]
  },
  {
   "cell_type": "markdown",
   "metadata": {},
   "source": [
    "### Exercise 3:\n",
    "\n",
    "### What are the underlying assumptions must be made and and showing details of your calculations, find a 95% confidence interval for beta \n",
    "\n",
    "### Assume that the errors are normally distributed with mean zero, independent and constant variance"
   ]
  },
  {
   "cell_type": "code",
   "execution_count": 8,
   "metadata": {},
   "outputs": [
    {
     "name": "stdout",
     "output_type": "stream",
     "text": [
      "                            OLS Regression Results                            \n",
      "==============================================================================\n",
      "Dep. Variable:                      y   R-squared:                       0.457\n",
      "Model:                            OLS   Adj. R-squared:                  0.348\n",
      "Method:                 Least Squares   F-statistic:                     4.200\n",
      "Date:                Mon, 26 Mar 2018   Prob (F-statistic):             0.0957\n",
      "Time:                        13:35:00   Log-Likelihood:                -20.080\n",
      "No. Observations:                   7   AIC:                             44.16\n",
      "Df Residuals:                       5   BIC:                             44.05\n",
      "Df Model:                           1                                         \n",
      "Covariance Type:            nonrobust                                         \n",
      "==============================================================================\n",
      "                 coef    std err          t      P>|t|      [95.0% Conf. Int.]\n",
      "------------------------------------------------------------------------------\n",
      "Intercept     -9.2907     11.963     -0.777      0.473       -40.042    21.461\n",
      "x              0.6399      0.312      2.050      0.096        -0.163     1.442\n",
      "==============================================================================\n",
      "Omnibus:                          nan   Durbin-Watson:                   2.298\n",
      "Prob(Omnibus):                    nan   Jarque-Bera (JB):                0.328\n",
      "Skew:                          -0.334   Prob(JB):                        0.849\n",
      "Kurtosis:                       2.176   Cond. No.                         241.\n",
      "==============================================================================\n",
      "\n",
      "Warnings:\n",
      "[1] Standard Errors assume that the covariance matrix of the errors is correctly specified.\n"
     ]
    },
    {
     "name": "stderr",
     "output_type": "stream",
     "text": [
      "/home/nbuser/anaconda3_420/lib/python3.5/site-packages/statsmodels/stats/stattools.py:72: UserWarning: omni_normtest is not valid with less than 8 observations; 7 samples were given.\n",
      "  \"samples were given.\" % int(n))\n"
     ]
    }
   ],
   "source": [
    "print(result.summary())\n",
    "\n",
    "# The 95% confidence interval for beta = (-0.163, 1.442)"
   ]
  },
  {
   "cell_type": "markdown",
   "metadata": {},
   "source": [
    "### Exercise 4:\n",
    "\n",
    "### What is the point prediction for the percentage yield of petroleum spirit when x = 40. "
   ]
  },
  {
   "cell_type": "code",
   "execution_count": 9,
   "metadata": {},
   "outputs": [
    {
     "data": {
      "text/plain": [
       "array([ 16.30369364])"
      ]
     },
     "execution_count": 9,
     "metadata": {},
     "output_type": "execute_result"
    }
   ],
   "source": [
    "# using statsmodel\n",
    "\n",
    "# create a new dataframe with x = 40\n",
    "\n",
    "new_record = [40]\n",
    "\n",
    "new_record = pd.DataFrame(\n",
    "    {'x':new_record\n",
    "    })\n",
    "\n",
    "\n",
    "\n",
    "result.predict(new_record)"
   ]
  },
  {
   "cell_type": "code",
   "execution_count": 10,
   "metadata": {},
   "outputs": [
    {
     "data": {
      "text/plain": [
       "array([[ 16.30369364]])"
      ]
     },
     "execution_count": 10,
     "metadata": {},
     "output_type": "execute_result"
    }
   ],
   "source": [
    "# using sci-kit learn\n",
    "\n",
    "model.predict(40)"
   ]
  },
  {
   "cell_type": "code",
   "execution_count": null,
   "metadata": {},
   "outputs": [],
   "source": []
  },
  {
   "cell_type": "markdown",
   "metadata": {},
   "source": [
    "# Reference:\n",
    "https://medium.freecodecamp.org/data-science-with-python-8-ways-to-do-linear-regression-and-measure-their-speed-b5577d75f8b\n",
    "\n",
    "http://www.statsmodels.org/dev/index.html\n",
    "\n",
    "https://stackoverflow.com/questions/30522724/take-multiple-lists-into-dataframe\n",
    "\n",
    "http://scikit-learn.org/stable/modules/generated/sklearn.linear_model.LinearRegression.html\n",
    "\n",
    "http://www.hkss.org.hk/images/exam/papers/Past/2016/HC4%202016%20-%20HKSS.PDF\n"
   ]
  },
  {
   "cell_type": "markdown",
   "metadata": {},
   "source": [
    "# Summary"
   ]
  },
  {
   "cell_type": "markdown",
   "metadata": {},
   "source": [
    "# Further Reading and Studies for advancing Statistical Modelling skills and mindset\n",
    "\n",
    "## Level 1:\n",
    "\n",
    "https://lectures.quantecon.org/py/ols.html\n",
    "\n",
    "https://github.com/justmarkham/DAT4/blob/master/notebooks/08_linear_regression.ipynb\n",
    "    \n",
    "## Level 2: \n",
    "https://www.kaggle.com/blackecho/pandas-time-series-analysis\n",
    "    \n",
    "https://www.kaggle.com/txtrouble/time-series-analysis-with-python\n",
    "    \n",
    "## Level 3:\n",
    "\n",
    "http://www-bcf.usc.edu/~gareth/ISL/\n",
    "\n"
   ]
  }
 ],
 "metadata": {
  "kernelspec": {
   "display_name": "Python 3",
   "language": "python",
   "name": "python3"
  },
  "language_info": {
   "codemirror_mode": {
    "name": "ipython",
    "version": 3
   },
   "file_extension": ".py",
   "mimetype": "text/x-python",
   "name": "python",
   "nbconvert_exporter": "python",
   "pygments_lexer": "ipython3",
   "version": "3.6.3"
  }
 },
 "nbformat": 4,
 "nbformat_minor": 2
}
