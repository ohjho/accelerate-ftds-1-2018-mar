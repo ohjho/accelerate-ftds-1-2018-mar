{
 "cells": [
  {
   "cell_type": "code",
   "execution_count": null,
   "metadata": {
    "collapsed": true
   },
   "outputs": [],
   "source": [
    "# Reference:\n",
    "\n",
    "sumofx = 386\n",
    "sumofy = 460\n",
    "sumofx2 = 25426\n",
    "sumofy2 = 28867\n",
    "sumofxy = 26161\n",
    "n = 8\n",
    "\n",
    "Sxx = sumofx2 - (sumofx)**2/n\n",
    "Syy = sumofy2 - (sumofy)**2/n\n",
    "Sxy = sumofxy - (sumofx*sumofy)/n\n",
    "\n",
    "\n",
    "total_sum_of_square = Syy\n",
    "regression_sum_of_square = beta1*Sxy\n",
    "residual_sum_of_square = Syy - beta1*Sxy\n",
    "\n",
    "\n",
    "beta_0 = mean_y - beta1*mean_x\n",
    "beta_1 = Sxy/Sxx\n",
    "\n"
   ]
  },
  {
   "cell_type": "markdown",
   "metadata": {},
   "source": [
    "# Exercise 1"
   ]
  },
  {
   "cell_type": "code",
   "execution_count": 20,
   "metadata": {
    "scrolled": true
   },
   "outputs": [
    {
     "name": "stdout",
     "output_type": "stream",
     "text": [
      "y-intercept is :  1.1683843071372504\n",
      "Slope is:  0.055540561010203944\n",
      "Total Sum of Square:  12.9455\n",
      "Regression Sum of Square:  11.200587236122779\n",
      "Residual Sum of Square:  1.7449127638772204\n",
      "Mean Square of Regression :  11.200587236122779\n",
      "Mean Square of Residual :  0.09693959799317892\n",
      "F Value is:  115.54191958698756\n",
      "The critical value for 1% significant level is:  15.3793059774\n"
     ]
    }
   ],
   "source": [
    "\n",
    "n = 20\n",
    "\n",
    "sumofx = 809\n",
    "sumofy = 68.3\n",
    "\n",
    "Sxx = 3630.95\n",
    "Sxy = 201.665\n",
    "Syy = 12.9455\n",
    "\n",
    "mean_x = sumofx/n\n",
    "mean_y = sumofy/n\n",
    "\n",
    "beta_1 = Sxy/Sxx\n",
    "beta_0 = mean_y - beta_1*mean_x\n",
    "\n",
    "print(\"y-intercept is : \",beta_0)\n",
    "print(\"Slope is: \", beta_1)\n",
    "\n",
    "\n",
    "total_sum_of_square = Syy\n",
    "regression_sum_of_square = beta_1*Sxy\n",
    "residual_sum_of_square = Syy - beta_1*Sxy\n",
    "\n",
    "print(\"Total Sum of Square: \", total_sum_of_square)\n",
    "print(\"Regression Sum of Square: \", regression_sum_of_square)\n",
    "print(\"Residual Sum of Square: \", residual_sum_of_square)\n",
    "\n",
    "\n",
    "print(\"Mean Square of Regression : \", regression_sum_of_square/1)\n",
    "print(\"Mean Square of Residual : \", residual_sum_of_square/(n-1-1))\n",
    "\n",
    "print(\"F Value is: \", (regression_sum_of_square/1)/(residual_sum_of_square/(n-1-1)))\n",
    "\n",
    "\n",
    "# for F distribution\n",
    "\n",
    "from scipy.stats import distributions as dists\n",
    "\n",
    "fcritical = dists.f.ppf(1-0.001,1,18)  # F statistics with DF regression = 1, Residual =18\n",
    "print(\"The critical value for 0.1% significant level is: \",fcritical)\n",
    "\n",
    "\n",
    "# Notice that 115.54191958698756 > 15.3793059774, we reject the null hypothesis in favor of alternative hypothesis\n",
    "# null hypothesis is beta_1 = 0, alternative hypothesis is beta_1 <> 0"
   ]
  },
  {
   "cell_type": "markdown",
   "metadata": {},
   "source": [
    "# Exercise 2"
   ]
  },
  {
   "cell_type": "code",
   "execution_count": 26,
   "metadata": {},
   "outputs": [
    {
     "data": {
      "text/html": [
       "<div>\n",
       "<style>\n",
       "    .dataframe thead tr:only-child th {\n",
       "        text-align: right;\n",
       "    }\n",
       "\n",
       "    .dataframe thead th {\n",
       "        text-align: left;\n",
       "    }\n",
       "\n",
       "    .dataframe tbody tr th {\n",
       "        vertical-align: top;\n",
       "    }\n",
       "</style>\n",
       "<table border=\"1\" class=\"dataframe\">\n",
       "  <thead>\n",
       "    <tr style=\"text-align: right;\">\n",
       "      <th></th>\n",
       "      <th>h</th>\n",
       "      <th>t</th>\n",
       "    </tr>\n",
       "  </thead>\n",
       "  <tbody>\n",
       "    <tr>\n",
       "      <th>0</th>\n",
       "      <td>1.64</td>\n",
       "      <td>50</td>\n",
       "    </tr>\n",
       "    <tr>\n",
       "      <th>1</th>\n",
       "      <td>1.60</td>\n",
       "      <td>50</td>\n",
       "    </tr>\n",
       "    <tr>\n",
       "      <th>2</th>\n",
       "      <td>1.63</td>\n",
       "      <td>60</td>\n",
       "    </tr>\n",
       "    <tr>\n",
       "      <th>3</th>\n",
       "      <td>1.65</td>\n",
       "      <td>60</td>\n",
       "    </tr>\n",
       "    <tr>\n",
       "      <th>4</th>\n",
       "      <td>1.67</td>\n",
       "      <td>70</td>\n",
       "    </tr>\n",
       "    <tr>\n",
       "      <th>5</th>\n",
       "      <td>1.67</td>\n",
       "      <td>70</td>\n",
       "    </tr>\n",
       "    <tr>\n",
       "      <th>6</th>\n",
       "      <td>1.72</td>\n",
       "      <td>80</td>\n",
       "    </tr>\n",
       "    <tr>\n",
       "      <th>7</th>\n",
       "      <td>1.70</td>\n",
       "      <td>80</td>\n",
       "    </tr>\n",
       "    <tr>\n",
       "      <th>8</th>\n",
       "      <td>1.72</td>\n",
       "      <td>90</td>\n",
       "    </tr>\n",
       "    <tr>\n",
       "      <th>9</th>\n",
       "      <td>1.71</td>\n",
       "      <td>90</td>\n",
       "    </tr>\n",
       "    <tr>\n",
       "      <th>10</th>\n",
       "      <td>1.74</td>\n",
       "      <td>100</td>\n",
       "    </tr>\n",
       "    <tr>\n",
       "      <th>11</th>\n",
       "      <td>1.71</td>\n",
       "      <td>100</td>\n",
       "    </tr>\n",
       "  </tbody>\n",
       "</table>\n",
       "</div>"
      ],
      "text/plain": [
       "       h    t\n",
       "0   1.64   50\n",
       "1   1.60   50\n",
       "2   1.63   60\n",
       "3   1.65   60\n",
       "4   1.67   70\n",
       "5   1.67   70\n",
       "6   1.72   80\n",
       "7   1.70   80\n",
       "8   1.72   90\n",
       "9   1.71   90\n",
       "10  1.74  100\n",
       "11  1.71  100"
      ]
     },
     "execution_count": 26,
     "metadata": {},
     "output_type": "execute_result"
    }
   ],
   "source": [
    "\n",
    "t = [50,50, 60,60, 70,70, 80,80, 90,90, 100,100]\n",
    "h = [ 1.64, 1.6,1.63, 1.65, 1.67, 1.67, 1.72,1.70 , 1.72, 1.71, 1.74, 1.71]\n",
    "\n",
    "import pandas as pd\n",
    "df = pd.DataFrame( {'t': t, 'h': h})\n",
    "\n",
    "df"
   ]
  },
  {
   "cell_type": "code",
   "execution_count": 28,
   "metadata": {},
   "outputs": [
    {
     "data": {
      "text/plain": [
       "Text(0,0.5,'h')"
      ]
     },
     "execution_count": 28,
     "metadata": {},
     "output_type": "execute_result"
    },
    {
     "data": {
      "image/png": "[encoded data removed]",
      "text/plain": [
       "<matplotlib.figure.Figure at 0x7fbf14bacba8>"
      ]
     },
     "metadata": {},
     "output_type": "display_data"
    }
   ],
   "source": [
    "import matplotlib.pyplot as plt\n",
    "\n",
    "plt.plot(t,h,\"o\")\n",
    "plt.xlabel(\"t\")\n",
    "plt.ylabel(\"h\")\n",
    "\n",
    "# The data follow a broadly linear increasing trend with roughly constant scatter. \n",
    "# It is reasonable to assume that the temperature is preset by the experimenters without error. \n"
   ]
  },
  {
   "cell_type": "code",
   "execution_count": 29,
   "metadata": {},
   "outputs": [
    {
     "name": "stderr",
     "output_type": "stream",
     "text": [
      "/home/nbuser/anaconda3_501/lib/python3.6/site-packages/statsmodels/compat/pandas.py:56: FutureWarning: The pandas.core.datetools module is deprecated and will be removed in a future version. Please use the pandas.tseries module instead.\n",
      "  from pandas.core import datetools\n"
     ]
    },
    {
     "name": "stdout",
     "output_type": "stream",
     "text": [
      "                            OLS Regression Results                            \n",
      "==============================================================================\n",
      "Dep. Variable:                      h   R-squared:                       0.866\n",
      "Model:                            OLS   Adj. R-squared:                  0.852\n",
      "Method:                 Least Squares   F-statistic:                     64.41\n",
      "Date:                Tue, 27 Mar 2018   Prob (F-statistic):           1.15e-05\n",
      "Time:                        09:33:10   Log-Likelihood:                 33.219\n",
      "No. Observations:                  12   AIC:                            -62.44\n",
      "Df Residuals:                      10   BIC:                            -61.47\n",
      "Df Model:                           1                                         \n",
      "Covariance Type:            nonrobust                                         \n",
      "==============================================================================\n",
      "                 coef    std err          t      P>|t|      [0.025      0.975]\n",
      "------------------------------------------------------------------------------\n",
      "Intercept      1.5107      0.022     69.831      0.000       1.463       1.559\n",
      "t              0.0023      0.000      8.025      0.000       0.002       0.003\n",
      "==============================================================================\n",
      "Omnibus:                        0.140   Durbin-Watson:                   1.544\n",
      "Prob(Omnibus):                  0.932   Jarque-Bera (JB):                0.155\n",
      "Skew:                          -0.160   Prob(JB):                        0.925\n",
      "Kurtosis:                       2.544   Cond. No.                         347.\n",
      "==============================================================================\n",
      "\n",
      "Warnings:\n",
      "[1] Standard Errors assume that the covariance matrix of the errors is correctly specified.\n"
     ]
    },
    {
     "name": "stderr",
     "output_type": "stream",
     "text": [
      "/home/nbuser/anaconda3_501/lib/python3.6/site-packages/scipy/stats/stats.py:1334: UserWarning: kurtosistest only valid for n>=20 ... continuing anyway, n=12\n",
      "  \"anyway, n=%i\" % int(n))\n"
     ]
    }
   ],
   "source": [
    "import statsmodels.api as sm\n",
    "import statsmodels.formula.api as smf\n",
    "\n",
    "import pandas as pd\n",
    "\n",
    "# using dataframe as the basis for statistical modeling\n",
    "\n",
    "df = pd.DataFrame(\n",
    "    {'t':t,\n",
    "     'h':h})\n",
    "\n",
    "# y~x meaning that the target variable is y, the predictor is x\n",
    "\n",
    "result = smf.ols('h~t',data = df).fit()\n",
    "\n",
    "# print the summary can get thoughout understanding of the fitted linear regression\n",
    "\n",
    "print(result.summary())"
   ]
  },
  {
   "cell_type": "code",
   "execution_count": 31,
   "metadata": {
    "scrolled": false
   },
   "outputs": [
    {
     "name": "stdout",
     "output_type": "stream",
     "text": [
      "The predicted Heat for temperature equal to 85 is 0    1.702571\n",
      "dtype: float64\n"
     ]
    }
   ],
   "source": [
    "new_record = [85]\n",
    "\n",
    "new_record = pd.DataFrame(\n",
    "    {'t':new_record\n",
    "    })\n",
    "\n",
    "\n",
    "res = result.predict(new_record)\n",
    "\n",
    "print(\"The predicted Heat for temperature equal to 85 is\", res)"
   ]
  },
  {
   "cell_type": "markdown",
   "metadata": {},
   "source": [
    "# Exercise 3:"
   ]
  },
  {
   "cell_type": "code",
   "execution_count": 32,
   "metadata": {},
   "outputs": [],
   "source": [
    "# Exercise 3:\n",
    "\n",
    "price = [14, 20, 37, 36, 31, 42, 54, 64, 38, 66, 64, 77, 79, 93, 119, 135]\n",
    "length = [120, 120, 120, 120, 150, 150, 150, 150, 180, 180, 180, 180, 240, 240, 240, 240]\n",
    "width = [60, 80, 100, 120, 75, 100, 125, 150, 90, 120, 150, 180, 120, 160, 200, 240]"
   ]
  },
  {
   "cell_type": "code",
   "execution_count": 33,
   "metadata": {
    "scrolled": true
   },
   "outputs": [
    {
     "name": "stdout",
     "output_type": "stream",
     "text": [
      "                            OLS Regression Results                            \n",
      "==============================================================================\n",
      "Dep. Variable:                  price   R-squared:                       0.979\n",
      "Model:                            OLS   Adj. R-squared:                  0.976\n",
      "Method:                 Least Squares   F-statistic:                     300.4\n",
      "Date:                Tue, 27 Mar 2018   Prob (F-statistic):           1.31e-11\n",
      "Time:                        09:39:24   Log-Likelihood:                -47.804\n",
      "No. Observations:                  16   AIC:                             101.6\n",
      "Df Residuals:                      13   BIC:                             103.9\n",
      "Df Model:                           2                                         \n",
      "Covariance Type:            nonrobust                                         \n",
      "==============================================================================\n",
      "                 coef    std err          t      P>|t|      [0.025      0.975]\n",
      "------------------------------------------------------------------------------\n",
      "Intercept    -52.6714      5.345     -9.854      0.000     -64.219     -41.124\n",
      "length         0.3236      0.042      7.614      0.000       0.232       0.415\n",
      "width          0.4438      0.040     11.063      0.000       0.357       0.531\n",
      "==============================================================================\n",
      "Omnibus:                        1.154   Durbin-Watson:                   2.452\n",
      "Prob(Omnibus):                  0.562   Jarque-Bera (JB):                0.992\n",
      "Skew:                          -0.439   Prob(JB):                        0.609\n",
      "Kurtosis:                       2.154   Cond. No.                         897.\n",
      "==============================================================================\n",
      "\n",
      "Warnings:\n",
      "[1] Standard Errors assume that the covariance matrix of the errors is correctly specified.\n"
     ]
    },
    {
     "name": "stderr",
     "output_type": "stream",
     "text": [
      "/home/nbuser/anaconda3_501/lib/python3.6/site-packages/scipy/stats/stats.py:1334: UserWarning: kurtosistest only valid for n>=20 ... continuing anyway, n=16\n",
      "  \"anyway, n=%i\" % int(n))\n"
     ]
    }
   ],
   "source": [
    "import statsmodels.api as sm\n",
    "import statsmodels.formula.api as smf\n",
    "\n",
    "import pandas as pd\n",
    "\n",
    "# using dataframe as the basis for statistical modeling\n",
    "\n",
    "df = pd.DataFrame(\n",
    "    {'price':price,\n",
    "     'length':length,\n",
    "    'width':width })\n",
    "\n",
    "# price~length+width meaning that the target variable is price, the predictor are length and width\n",
    "\n",
    "result = smf.ols('price~length+width',data = df).fit()\n",
    "\n",
    "# print the summary can get thoughout understanding of the fitted linear regression\n",
    "\n",
    "print(result.summary())"
   ]
  },
  {
   "cell_type": "code",
   "execution_count": 1,
   "metadata": {},
   "outputs": [
    {
     "name": "stdout",
     "output_type": "stream",
     "text": [
      "The critical value for 0.1% significant level is:  12.3127298107\n"
     ]
    }
   ],
   "source": [
    "# for F distribution\n",
    "\n",
    "from scipy.stats import distributions as dists\n",
    "\n",
    "fcritical = dists.f.ppf(1-0.001,2,13)  # F statistics with DF regression = 2, Residual =13\n",
    "print(\"The critical value for 0.1% significant level is: \",fcritical)"
   ]
  },
  {
   "cell_type": "markdown",
   "metadata": {},
   "source": [
    "## Notice that the F Statistics is 300.4 > 12.3127, we reject the null hypothesis (beta_0 = beta_1=beta_2=0) in favor of alternative hypothesis, taking 0.1% significant level\n",
    "\n",
    "## The p-values for length and width are all smaller than 0.1%, we reject the null hypothesis(beta_1=0, beta_2=0) in favor of alternative hypothesis (beta_1 <>0,beta_2 <>0) \n",
    "\n",
    "## The R-squared = 0.98 which means 98% of Y is explained by the model\n",
    "\n",
    "## In summary, the fitted multiple linear model is useful for making prediction on price based on length and width"
   ]
  },
  {
   "cell_type": "code",
   "execution_count": null,
   "metadata": {},
   "outputs": [],
   "source": []
  }
 ],
 "metadata": {
  "kernelspec": {
   "display_name": "Python 3",
   "language": "python",
   "name": "python3"
  },
  "language_info": {
   "codemirror_mode": {
    "name": "ipython",
    "version": 3
   },
   "file_extension": ".py",
   "mimetype": "text/x-python",
   "name": "python",
   "nbconvert_exporter": "python",
   "pygments_lexer": "ipython3",
   "version": "3.6.3"
  }
 },
 "nbformat": 4,
 "nbformat_minor": 2
}
