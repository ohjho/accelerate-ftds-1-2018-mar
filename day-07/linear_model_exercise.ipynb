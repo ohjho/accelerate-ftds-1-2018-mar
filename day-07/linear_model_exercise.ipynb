{
 "cells": [
  {
   "cell_type": "markdown",
   "metadata": {},
   "source": [
    "# Morning Exercise"
   ]
  },
  {
   "cell_type": "markdown",
   "metadata": {},
   "source": [
    "## Exercise 2: some heat data"
   ]
  },
  {
   "cell_type": "code",
   "execution_count": 7,
   "metadata": {},
   "outputs": [
    {
     "name": "stdout",
     "output_type": "stream",
     "text": [
      "[1]: Scatter Diagram of Data... looks like a linear relationship\n"
     ]
    },
    {
     "data": {
      "text/plain": [
       "<matplotlib.axes._subplots.AxesSubplot at 0x107dec438>"
      ]
     },
     "execution_count": 7,
     "metadata": {},
     "output_type": "execute_result"
    },
    {
     "data": {
      "image/png": "[encoded data removed]",
      "text/plain": [
       "<Figure size 432x288 with 1 Axes>"
      ]
     },
     "metadata": {},
     "output_type": "display_data"
    }
   ],
   "source": [
    "import pandas as pd\n",
    "%matplotlib inline\n",
    "t = [50, 60, 70, 80, 90, 100]\n",
    "h1 = [ 1.64, 1.63, 1.67, 1.72, 1.71, 1.71]\n",
    "h2 = [1.6, 1.65, 1.67, 1.7, 1.72, 1.74]\n",
    "\n",
    "df = pd.DataFrame( {'t': t + t, 'h': h1 + h2})\n",
    "print(\"[1]: Scatter Diagram of Data... looks like a linear relationship\")\n",
    "df.plot(kind = \"scatter\", x= 't', y='h')"
   ]
  },
  {
   "cell_type": "code",
   "execution_count": 17,
   "metadata": {},
   "outputs": [
    {
     "name": "stdout",
     "output_type": "stream",
     "text": [
      "\n",
      "\n",
      "With t= [85], the predicted heat from this model is 1.7025714285714284\n",
      "\n",
      "\n",
      "Here's the linear model summary \n",
      "\n",
      "                            OLS Regression Results                            \n",
      "==============================================================================\n",
      "Dep. Variable:                      h   R-squared:                       0.866\n",
      "Model:                            OLS   Adj. R-squared:                  0.852\n",
      "Method:                 Least Squares   F-statistic:                     64.41\n",
      "Date:                Tue, 27 Mar 2018   Prob (F-statistic):           1.15e-05\n",
      "Time:                        12:13:09   Log-Likelihood:                 33.219\n",
      "No. Observations:                  12   AIC:                            -62.44\n",
      "Df Residuals:                      10   BIC:                            -61.47\n",
      "Df Model:                           1                                         \n",
      "Covariance Type:            nonrobust                                         \n",
      "==============================================================================\n",
      "                 coef    std err          t      P>|t|      [0.025      0.975]\n",
      "------------------------------------------------------------------------------\n",
      "Intercept      1.5107      0.022     69.831      0.000       1.463       1.559\n",
      "t              0.0023      0.000      8.025      0.000       0.002       0.003\n",
      "==============================================================================\n",
      "Omnibus:                        0.140   Durbin-Watson:                   1.634\n",
      "Prob(Omnibus):                  0.932   Jarque-Bera (JB):                0.155\n",
      "Skew:                          -0.160   Prob(JB):                        0.925\n",
      "Kurtosis:                       2.544   Cond. No.                         347.\n",
      "==============================================================================\n",
      "\n",
      "Warnings:\n",
      "[1] Standard Errors assume that the covariance matrix of the errors is correctly specified.\n"
     ]
    },
    {
     "name": "stderr",
     "output_type": "stream",
     "text": [
      "/Users/JHO/.virtualenvs/accelerateHK3/lib/python3.6/site-packages/scipy/stats/stats.py:1390: UserWarning: kurtosistest only valid for n>=20 ... continuing anyway, n=12\n",
      "  \"anyway, n=%i\" % int(n))\n"
     ]
    }
   ],
   "source": [
    "import statsmodels.formula.api as smf\n",
    "\n",
    "# create a fitted model in one line\n",
    "l_model = smf.ols(formula = 'h ~ t', data = df).fit()\n",
    "\n",
    "t_predict = [85]\n",
    "df_predict = pd.DataFrame({'t': t_predict})\n",
    "strOut = \"\\n\\nWith t= {}, the predicted heat from this model is {}\".format(t_predict, l_model.predict(df_predict)[0])\n",
    "print(strOut)\n",
    "\n",
    "print( \"\\n\\nHere's the linear model summary \\n\\n\" + str(l_model.summary()))"
   ]
  },
  {
   "cell_type": "markdown",
   "metadata": {},
   "source": [
    "## Exercise 3: Persian Carpet Price"
   ]
  },
  {
   "cell_type": "code",
   "execution_count": 54,
   "metadata": {},
   "outputs": [
    {
     "data": {
      "text/plain": [
       "Text(0,0.5,'price in GBP')"
      ]
     },
     "execution_count": 54,
     "metadata": {},
     "output_type": "execute_result"
    },
    {
     "data": {
      "image/png": "[encoded data removed]",
      "text/plain": [
       "<Figure size 432x288 with 1 Axes>"
      ]
     },
     "metadata": {},
     "output_type": "display_data"
    }
   ],
   "source": [
    "# Data\n",
    "price = [14, 20, 37, 36, 31, 42, 54, 64, 38, 66, 64, 77, 79, 93, 119, 135]\n",
    "length = [120, 120, 120, 120, 150, 150, 150, 150, 180, 180, 180, 180, 240, 240, 240, 240]\n",
    "width = [60, 80, 100, 120, 75, 100, 125, 150, 90, 120, 150, 180, 120, 160, 200, 240]\n",
    "\n",
    "# Scatter plot\n",
    "df = pd.DataFrame( {'price': price, 'length': length, 'width': width})\n",
    "ax1 = df.plot(kind = \"scatter\", x = 'length', y = 'price', color = 'r', label = 'price vs length')\n",
    "ax2 = df.plot(kind = \"scatter\", x = 'width', y = 'price', color = 'b', label = 'price vs width', ax = ax1)\n",
    "ax1.set_xlabel('length/ width in cm')\n",
    "ax1.set_ylabel('price in GBP')"
   ]
  },
  {
   "cell_type": "code",
   "execution_count": 55,
   "metadata": {},
   "outputs": [
    {
     "name": "stdout",
     "output_type": "stream",
     "text": [
      "                            OLS Regression Results                            \n",
      "==============================================================================\n",
      "Dep. Variable:                  price   R-squared:                       0.979\n",
      "Model:                            OLS   Adj. R-squared:                  0.976\n",
      "Method:                 Least Squares   F-statistic:                     300.4\n",
      "Date:                Tue, 27 Mar 2018   Prob (F-statistic):           1.31e-11\n",
      "Time:                        16:06:21   Log-Likelihood:                -47.804\n",
      "No. Observations:                  16   AIC:                             101.6\n",
      "Df Residuals:                      13   BIC:                             103.9\n",
      "Df Model:                           2                                         \n",
      "Covariance Type:            nonrobust                                         \n",
      "==============================================================================\n",
      "                 coef    std err          t      P>|t|      [0.025      0.975]\n",
      "------------------------------------------------------------------------------\n",
      "Intercept    -52.6714      5.345     -9.854      0.000     -64.219     -41.124\n",
      "length         0.3236      0.042      7.614      0.000       0.232       0.415\n",
      "width          0.4438      0.040     11.063      0.000       0.357       0.531\n",
      "==============================================================================\n",
      "Omnibus:                        1.154   Durbin-Watson:                   2.452\n",
      "Prob(Omnibus):                  0.562   Jarque-Bera (JB):                0.992\n",
      "Skew:                          -0.439   Prob(JB):                        0.609\n",
      "Kurtosis:                       2.154   Cond. No.                         897.\n",
      "==============================================================================\n",
      "\n",
      "Warnings:\n",
      "[1] Standard Errors assume that the covariance matrix of the errors is correctly specified.\n"
     ]
    },
    {
     "name": "stderr",
     "output_type": "stream",
     "text": [
      "/Users/JHO/.virtualenvs/accelerateHK3/lib/python3.6/site-packages/scipy/stats/stats.py:1390: UserWarning: kurtosistest only valid for n>=20 ... continuing anyway, n=16\n",
      "  \"anyway, n=%i\" % int(n))\n"
     ]
    }
   ],
   "source": [
    "# create a fitted model in one line\n",
    "l_model = smf.ols(formula = 'price ~ length + width', data = df).fit()\n",
    "print(l_model.summary())"
   ]
  },
  {
   "cell_type": "code",
   "execution_count": 58,
   "metadata": {},
   "outputs": [
    {
     "name": "stdout",
     "output_type": "stream",
     "text": [
      "given l=200, w=150, price is predicted to be 78.6142857142857\n"
     ]
    }
   ],
   "source": [
    "#Prediction\n",
    "df_predict = pd.DataFrame( {'length': [200], 'width': [150]})\n",
    "carpet_predict = l_model.predict(df_predict)\n",
    "print(\"given l=200, w=150, price is predicted to be {}\".format(carpet_predict[0]))"
   ]
  },
  {
   "cell_type": "code",
   "execution_count": 33,
   "metadata": {},
   "outputs": [
    {
     "name": "stdout",
     "output_type": "stream",
     "text": [
      "\n",
      "    Since our linear test's f-value, 300.43489898638154, is much higher than the f-critical (at 95% confidence) value of 3.805565252978057. \n",
      " \n",
      "    we reject the null hypothesis that price is not correlated to length nor width.\n",
      "    \n"
     ]
    }
   ],
   "source": [
    "# for F distribution\n",
    "\n",
    "from scipy.stats import distributions as dists\n",
    "\n",
    "fcritical = dists.f.ppf(q= 1-0.05, dfn= 2, dfd= 13)  # Q(confidence level), dfn(Degree of Freedom), dfd(degree of freedom residuals)\n",
    "\n",
    "outStr = \"\"\"\n",
    "    Since our linear test's f-value, {}, is much higher than the f-critical (at 95% confidence) value of {}. \\n \n",
    "    we reject the null hypothesis that price is not correlated to length nor width.\n",
    "    \"\"\".format(l_model.fvalue, fcritical)\n",
    "\n",
    "print(outStr)"
   ]
  },
  {
   "cell_type": "markdown",
   "metadata": {},
   "source": [
    "we are 95% confident that Price of Persian carpets is correlated with both its price and width."
   ]
  },
  {
   "cell_type": "markdown",
   "metadata": {},
   "source": [
    "## Exercise 4: Devon Motor Racing Grand Prix"
   ]
  },
  {
   "cell_type": "code",
   "execution_count": 60,
   "metadata": {},
   "outputs": [
    {
     "data": {
      "text/plain": [
       "<matplotlib.axes._subplots.AxesSubplot at 0x10658cd30>"
      ]
     },
     "execution_count": 60,
     "metadata": {},
     "output_type": "execute_result"
    },
    {
     "data": {
      "image/png": "[encoded data removed]",
      "text/plain": [
       "<Figure size 432x288 with 1 Axes>"
      ]
     },
     "metadata": {},
     "output_type": "display_data"
    }
   ],
   "source": [
    "# data\n",
    "year = [1965, 1970, 1975, 1980, 1985, 1990, 1995, 2000, 2005]\n",
    "speed = [109, 114, 116, 117, 114, 127, 131, 138, 141]\n",
    "df = pd.DataFrame( {'year': year, 'speed': speed})\n",
    "\n",
    "df.plot(kind = \"scatter\", y = 'speed', x = 'year')"
   ]
  },
  {
   "cell_type": "markdown",
   "metadata": {},
   "source": [
    "given the scatter plot, it does look like that **average winning speed** is somewhat linearly related to time/ year"
   ]
  },
  {
   "cell_type": "code",
   "execution_count": null,
   "metadata": {},
   "outputs": [],
   "source": [
    "# create a fitted model in one line\n",
    "l_model = smf.ols(formula = 'speed ~ year', data = df).fit()\n",
    "\n",
    "from statsmodels.stats import anova\n",
    "anova_tbl = anova.anova_lm(l_model)\n",
    "outStr = \"\"\"\n",
    "    Total Sum of Squares: {} \\n\n",
    "    Regression Sum of Squares: {}\\n\n",
    "    Error Mean Square: {}\n",
    "    \"\"\".format(anova_tbl.sum_sq['year'] + anova_tbl.sum_sq['Residual'], anova_tbl.sum_sq['year'], anova_tbl.mean_sq['Residual'])\n",
    "print(outStr)\n",
    "\n",
    "print(anova_tbl)\n"
   ]
  },
  {
   "cell_type": "markdown",
   "metadata": {},
   "source": [
    "Ommitting the 1985 data point gives a much higher f-value, t-value, and r-square. So it's preferred."
   ]
  },
  {
   "cell_type": "code",
   "execution_count": 42,
   "metadata": {},
   "outputs": [
    {
     "name": "stdout",
     "output_type": "stream",
     "text": [
      "                            OLS Regression Results                            \n",
      "==============================================================================\n",
      "Dep. Variable:                  speed   R-squared:                       0.979\n",
      "Model:                            OLS   Adj. R-squared:                  0.975\n",
      "Method:                 Least Squares   F-statistic:                     275.9\n",
      "Date:                Tue, 27 Mar 2018   Prob (F-statistic):           3.04e-06\n",
      "Time:                        15:43:06   Log-Likelihood:                -15.188\n",
      "No. Observations:                   8   AIC:                             34.38\n",
      "Df Residuals:                       6   BIC:                             34.53\n",
      "Df Model:                           1                                         \n",
      "Covariance Type:            nonrobust                                         \n",
      "==============================================================================\n",
      "                 coef    std err          t      P>|t|      [0.025      0.975]\n",
      "------------------------------------------------------------------------------\n",
      "Intercept  -1463.8750     95.601    -15.312      0.000   -1697.802   -1229.948\n",
      "year           0.8000      0.048     16.611      0.000       0.682       0.918\n",
      "==============================================================================\n",
      "Omnibus:                        0.889   Durbin-Watson:                   1.341\n",
      "Prob(Omnibus):                  0.641   Jarque-Bera (JB):                0.587\n",
      "Skew:                          -0.559   Prob(JB):                        0.746\n",
      "Kurtosis:                       2.285   Cond. No.                     2.88e+05\n",
      "==============================================================================\n",
      "\n",
      "Warnings:\n",
      "[1] Standard Errors assume that the covariance matrix of the errors is correctly specified.\n",
      "[2] The condition number is large, 2.88e+05. This might indicate that there are\n",
      "strong multicollinearity or other numerical problems.\n"
     ]
    },
    {
     "name": "stderr",
     "output_type": "stream",
     "text": [
      "/Users/JHO/.virtualenvs/accelerateHK3/lib/python3.6/site-packages/scipy/stats/stats.py:1390: UserWarning: kurtosistest only valid for n>=20 ... continuing anyway, n=8\n",
      "  \"anyway, n=%i\" % int(n))\n"
     ]
    }
   ],
   "source": [
    "new_df = df[df.year != 1985]\n",
    "\n",
    "# create a fitted model in one line\n",
    "l_model = smf.ols(formula = 'speed ~ year', data = new_df).fit()\n",
    "\n",
    "print(l_model.summary())"
   ]
  },
  {
   "cell_type": "code",
   "execution_count": 53,
   "metadata": {},
   "outputs": [
    {
     "name": "stdout",
     "output_type": "stream",
     "text": [
      "\n",
      "    1985: 124.12500000000068\n",
      "\n",
      "    2010: 144.12500000000023\n",
      "\n",
      "    160 mph by 2029.84375 with 99% confidence given the 8.0 observations\n",
      "    \n"
     ]
    }
   ],
   "source": [
    "l_predict_years = [1985, 2010]\n",
    "df_predict = pd.DataFrame({'year': l_predict_years})\n",
    "\n",
    "fut_predict = l_model.predict(df_predict)\n",
    "outStr = \"\"\"\n",
    "    1985: {}\\n\n",
    "    2010: {}\\n\n",
    "    160 mph by {} with 99% confidence given the {} observations\n",
    "    \"\"\".format( fut_predict[0], fut_predict[1], (160 - l_model.params[0]) / l_model.params[1], l_model.nobs)\n",
    "print(outStr)"
   ]
  },
  {
   "cell_type": "markdown",
   "metadata": {},
   "source": [
    "# Exercise 5: metal discoloring"
   ]
  },
  {
   "cell_type": "code",
   "execution_count": 83,
   "metadata": {},
   "outputs": [
    {
     "name": "stdout",
     "output_type": "stream",
     "text": [
      "AxesSubplot(0.125,0.125;0.775x0.755)\n"
     ]
    },
    {
     "data": {
      "image/png": "[encoded data removed]",
      "text/plain": [
       "<Figure size 432x288 with 1 Axes>"
      ]
     },
     "metadata": {},
     "output_type": "display_data"
    }
   ],
   "source": [
    "# data\n",
    "x = [1.8, 3, 4, 5.7, 7.2, 8.4, 10.3]\n",
    "t = [3.4, 5.9, 7, 8.7, 9.5, 10.4, 11.1]\n",
    "df = pd.DataFrame({'x': x, 't': t})\n",
    "\n",
    "import numpy as np\n",
    "ax1 = df.plot(kind= 'scatter', x = 'x', y = 't')\n",
    "f = lambda x: 3.072 + 0.8617 * x\n",
    "x_text = np.array([df.x.min(), df.x.max()])\n",
    "ax1.plot(x_text , f(x_text), color='green')\n",
    "print(ax1)"
   ]
  },
  {
   "cell_type": "code",
   "execution_count": null,
   "metadata": {},
   "outputs": [],
   "source": []
  }
 ],
 "metadata": {
  "kernelspec": {
   "display_name": "Python 3",
   "language": "python",
   "name": "python3"
  },
  "language_info": {
   "codemirror_mode": {
    "name": "ipython",
    "version": 3
   },
   "file_extension": ".py",
   "mimetype": "text/x-python",
   "name": "python",
   "nbconvert_exporter": "python",
   "pygments_lexer": "ipython3",
   "version": "3.6.3"
  }
 },
 "nbformat": 4,
 "nbformat_minor": 2
}
