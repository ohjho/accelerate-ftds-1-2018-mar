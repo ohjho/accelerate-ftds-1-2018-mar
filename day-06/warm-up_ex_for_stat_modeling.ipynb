{
 "cells": [
  {
   "cell_type": "markdown",
   "metadata": {},
   "source": [
    "# Warm up Exercise for Statistics Modeling"
   ]
  },
  {
   "cell_type": "markdown",
   "metadata": {},
   "source": [
    "## Exercise 1: Biological study of cricket chirps and temperature"
   ]
  },
  {
   "cell_type": "code",
   "execution_count": 26,
   "metadata": {},
   "outputs": [
    {
     "name": "stdout",
     "output_type": "stream",
     "text": [
      "[A]\n",
      "correlation manually cal:0.998495997993223, from pearsonr: 0.833849444814051 with p-value:0.00011186487090822378\n",
      "\n",
      "The two variables are positively correlated\n",
      "\n",
      "[B]\n",
      "spearman correlations:0.8464285714285712 with p-value: 6.923823609737207e-05; manually calculated r_s: 0.8464285714285714\n",
      "\n",
      "The two variables are positively correlated\n",
      "\n"
     ]
    }
   ],
   "source": [
    "import math\n",
    "from scipy.stats.stats import pearsonr\n",
    "\n",
    "# chirps/ sec (y), temp (x)\n",
    "y= [14.4, 14.7, 15.0, 15.4, 15.5, 15.7, 16.0, 16.1, 16.3, 17.0, 17.1, 17.2, 18.4, 19.8, 20.0]\n",
    "x = [76.3, 69.7, 79.6, 69.4, 75.2, 71.5, 71.6, 80.5, 83.3, 83.5, 80.6, 82.6, 84.3, 93.3, 88.6]\n",
    "sum_x = 1190\n",
    "sum_y = 248.6\n",
    "sum_x2 = 95098\n",
    "sum_y2 = 4161.1\n",
    "sum_xy = 19862.6\n",
    "\n",
    "# [A]\n",
    "# test for positive correlation at 1% significance\n",
    "r = sum_xy / math.sqrt( sum_x2 * sum_y2)\n",
    "r_p = pearsonr(x,y)\n",
    "l_significance = 0.01\n",
    "output = \"[A]\\ncorrelation manually cal:{}, from pearsonr: {} with p-value:{}\".format(r, r_p[0], r_p[1])\n",
    "print(output)\n",
    "\n",
    "if r_p[1] < l_significance:\n",
    "    print(\"\\nThe two variables are positively correlated\\n\")\n",
    "    \n",
    "# [B]\n",
    "# test for Spearman's rank correlation at 1% level of significance\n",
    "import scipy.stats as ss\n",
    "rank_y = list(ss.rankdata(y))\n",
    "rank_x = list(ss.rankdata(x))\n",
    "\n",
    "d = sum([(xi-yi)**2 for xi,yi in zip(rank_x, rank_y)])\n",
    "n = len(rank_y)\n",
    "r_s_manual = 1- (6*d)/(n*(n**2-1))\n",
    "\n",
    "from scipy.stats import spearmanr\n",
    "r_s, r_s_pvalue = spearmanr(x,y)\n",
    "output = \"[B]\\nspearman correlations:{} with p-value: {}; manually calculated r_s: {}\".format(r_s, r_s_pvalue, r_s_manual)\n",
    "print(output)\n",
    "if r_s_pvalue < l_significance:\n",
    "    print(\"\\nThe two variables are positively correlated\\n\")\n",
    "    "
   ]
  },
  {
   "cell_type": "markdown",
   "metadata": {},
   "source": [
    "## Exercise 2: 2012 London Olympics Silver vs Bronze correlations"
   ]
  },
  {
   "cell_type": "code",
   "execution_count": 39,
   "metadata": {},
   "outputs": [
    {
     "name": "stdout",
     "output_type": "stream",
     "text": [
      "[A]\n",
      "Pearson correlation: 0.9132112971140764 with p-value of 0.0005820125831515095\n",
      "\n",
      "The two variables are positively correlated\n",
      "\n",
      "[A]\n",
      "Spearman correlation: 0.9333333333333332 with p-value of 0.00023589981215941676; manually calc r_s: 0.9333333333333333\n",
      "\n",
      "The two variables are positively correlated\n",
      "\n"
     ]
    },
    {
     "data": {
      "text/plain": [
       "<matplotlib.axes._subplots.AxesSubplot at 0x11699ebe0>"
      ]
     },
     "execution_count": 39,
     "metadata": {},
     "output_type": "execute_result"
    },
    {
     "data": {
      "image/png": "[encoded data removed]",
      "text/plain": [
       "<Figure size 432x288 with 1 Axes>"
      ]
     },
     "metadata": {},
     "output_type": "display_data"
    }
   ],
   "source": [
    "#[A]\n",
    "# Test if Silver(x) counts and Bronze(y) counts are positively correlated at 2% significance\n",
    "x = [29, 27, 17, 25, 8, 19, 11, 9, 4]\n",
    "y = [29, 22, 19, 33, 7, 14, 12, 11, 5]\n",
    "pearson_data = pearsonr(x,y)\n",
    "out_str = \"[A]\\nPearson correlation: {} with p-value of {}\".format(pearson_data[0], pearson_data[1])\n",
    "print( out_str )\n",
    "\n",
    "l_significance = 0.02\n",
    "if pearson_data[1] < l_significance:\n",
    "    print(\"\\nThe two variables are positively correlated\\n\")\n",
    "\n",
    "rank_x = list(ss.rankdata(x))\n",
    "rank_y = list(ss.rankdata(y))\n",
    "d = sum([(xi-yi)**2 for xi,yi in zip(rank_x, rank_y)])\n",
    "n = len(rank_x)\n",
    "r_s_manual = 1- (6*d)/(n*(n**2-1))\n",
    "\n",
    "spearman_data = spearmanr(x, y)\n",
    "out_str = \"[A]\\nSpearman correlation: {} with p-value of {}; manually calc r_s: {}\".format(spearman_data[0], spearman_data[1], r_s_manual)\n",
    "print( out_str )\n",
    "\n",
    "l_significance = 0.02\n",
    "if spearman_data[1] < l_significance:\n",
    "    print(\"\\nThe two variables are positively correlated\\n\")\n",
    "\n",
    "import pandas as pd\n",
    "%matplotlib inline\n",
    "df = pd.DataFrame()\n",
    "df['silver'] = x\n",
    "df['brozen'] = y\n",
    "df.plot()"
   ]
  }
 ],
 "metadata": {
  "kernelspec": {
   "display_name": "Python 3",
   "language": "python",
   "name": "python3"
  },
  "language_info": {
   "codemirror_mode": {
    "name": "ipython",
    "version": 3
   },
   "file_extension": ".py",
   "mimetype": "text/x-python",
   "name": "python",
   "nbconvert_exporter": "python",
   "pygments_lexer": "ipython3",
   "version": "3.6.3"
  }
 },
 "nbformat": 4,
 "nbformat_minor": 2
}
