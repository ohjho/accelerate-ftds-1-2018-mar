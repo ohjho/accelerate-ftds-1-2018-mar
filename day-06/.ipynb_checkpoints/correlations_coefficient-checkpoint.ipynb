{
 "cells": [
  {
   "cell_type": "markdown",
   "metadata": {},
   "source": [
    "# Introduction to Statistical Hypothesis Testing\n",
    " \n",
    "### Examples: \n",
    "\n",
    "### 1. If an engineer has to decide on the basis of sample data whether the true average lifetime of a certain kind of tire is 22,000 miles;  \n",
    " \n",
    "### 2. if an agronomist has to decide on the basis of experiments whether one kind of fertilizer produces a higher yield of soybeans than another; or \n",
    "\n",
    " \n",
    "## These problems can all be translated into the language of **statistical tests of hypotheses**"
   ]
  },
  {
   "cell_type": "code",
   "execution_count": 1,
   "metadata": {},
   "outputs": [],
   "source": []
  },
  {
   "cell_type": "markdown",
   "metadata": {},
   "source": [
    "## Example 1. \n",
    "### Null Hypothesis: $$ \\mu = 22000$$ vs Alternative Hypothesis: $$ \\mu \\neq 22000 $$\n",
    "\n",
    "\n"
   ]
  },
  {
   "cell_type": "markdown",
   "metadata": {},
   "source": [
    "## Example 2. \n",
    "### Null Hypothesis: $$ \\mu1 = \\mu2$$ vs Alternative Hypothesis: $$ \\mu1 > \\mu2 $$\n",
    "\n",
    "\n"
   ]
  },
  {
   "cell_type": "code",
   "execution_count": null,
   "metadata": {},
   "outputs": [],
   "source": []
  },
  {
   "cell_type": "markdown",
   "metadata": {
    "collapsed": true
   },
   "source": [
    "Sample product-moment correlation coefficient\n",
    "\n",
    "Reference:\n",
    "https://en.wikipedia.org/wiki/Pearson_correlation_coefficient\n"
   ]
  },
  {
   "cell_type": "code",
   "execution_count": null,
   "metadata": {},
   "outputs": [],
   "source": []
  },
  {
   "cell_type": "markdown",
   "metadata": {},
   "source": [
    "### Suppose you are working as a chocolate manufacturer and is interested in the effect of advertising on sales. \n",
    "### You select a random sample of eight of the products. The value Y of sales, in tens of thousands of pounds, of each product in a certain period and the amount of money X, in thousands of pounds,spent on advertising each product were recorded. \n",
    "\n",
    "### Using the following information, calculate the sample product-moment correlation coefficient between the variables 'sales' and 'advertising costs'. \n",
    "\n",
    "\n",
    "#### Reference: http://www.hkss.org.hk/images/exam/papers/Past/2016/HC4%202016%20-%20HKSS.PDF\n",
    "\n"
   ]
  },
  {
   "cell_type": "code",
   "execution_count": 4,
   "metadata": {},
   "outputs": [
    {
     "data": {
      "text/plain": [
       "0.9781648070201413"
      ]
     },
     "execution_count": 4,
     "metadata": {},
     "output_type": "execute_result"
    }
   ],
   "source": [
    "sumofx = 386\n",
    "sumofy = 460\n",
    "sumofx2 = 25426\n",
    "sumofy2 = 28867\n",
    "sumofxy = 26161\n",
    "n = 8\n",
    "\n",
    "\n",
    "Sxx = sumofx2 - (sumofx)**2/n\n",
    "Syy = sumofy2 - (sumofy)**2/n\n",
    "Sxy = sumofxy - (sumofx*sumofy)/n\n",
    "\n",
    "import math\n",
    "\n",
    "r = Sxy/math.sqrt(Sxx*Syy)\n",
    "r \n",
    "\n"
   ]
  },
  {
   "cell_type": "code",
   "execution_count": 3,
   "metadata": {},
   "outputs": [
    {
     "data": {
      "text/plain": [
       "0.998718938316758"
      ]
     },
     "execution_count": 3,
     "metadata": {},
     "output_type": "execute_result"
    }
   ],
   "source": [
    "x = [2.3,5.4,6,3,10,12]\n",
    "y = [5,12,14,7,22.4,25.9]\n",
    "\n",
    "\n",
    "\n",
    "sumofx = sum(x)\n",
    "sumofy = sum(y)\n",
    "\n",
    "\n",
    "\n",
    "# mini exercise: how to calculate sumofx2?\n",
    "\n",
    "\n",
    "\n",
    "\n",
    "Sxx = sumofx2 - (sumofx)**2/len(x)\n",
    "Syy = sumofy2 - (sumofy)**2/len(x)\n",
    "Sxy = sumofxy - (sumofx*sumofy)/len(x)\n",
    "\n",
    "import math\n",
    "\n",
    "r = Sxy/math.sqrt(Sxx*Syy)\n",
    "r \n"
   ]
  },
  {
   "cell_type": "code",
   "execution_count": 5,
   "metadata": {},
   "outputs": [
    {
     "data": {
      "text/plain": [
       "(0.9987189383167582, 2.460627367048062e-06)"
      ]
     },
     "execution_count": 5,
     "metadata": {},
     "output_type": "execute_result"
    }
   ],
   "source": [
    "from scipy.stats.stats import pearsonr\n",
    "\n",
    "pearsonr(x,y)"
   ]
  },
  {
   "cell_type": "code",
   "execution_count": 6,
   "metadata": {},
   "outputs": [
    {
     "data": {
      "text/html": [
       "<div>\n",
       "<style scoped>\n",
       "    .dataframe tbody tr th:only-of-type {\n",
       "        vertical-align: middle;\n",
       "    }\n",
       "\n",
       "    .dataframe tbody tr th {\n",
       "        vertical-align: top;\n",
       "    }\n",
       "\n",
       "    .dataframe thead th {\n",
       "        text-align: right;\n",
       "    }\n",
       "</style>\n",
       "<table border=\"1\" class=\"dataframe\">\n",
       "  <thead>\n",
       "    <tr style=\"text-align: right;\">\n",
       "      <th></th>\n",
       "      <th>0</th>\n",
       "    </tr>\n",
       "  </thead>\n",
       "  <tbody>\n",
       "    <tr>\n",
       "      <th>0</th>\n",
       "      <td>1.0</td>\n",
       "    </tr>\n",
       "  </tbody>\n",
       "</table>\n",
       "</div>"
      ],
      "text/plain": [
       "     0\n",
       "0  1.0"
      ]
     },
     "execution_count": 6,
     "metadata": {},
     "output_type": "execute_result"
    }
   ],
   "source": [
    "import pandas as pd\n",
    "\n",
    "df = pd.DataFrame(x,y)\n",
    "df.corr()\n",
    "\n",
    "# Reference: https://stackoverflow.com/questions/3949226/calculating-pearson-correlation-and-significance-in-python\n"
   ]
  },
  {
   "cell_type": "code",
   "execution_count": null,
   "metadata": {},
   "outputs": [],
   "source": []
  },
  {
   "cell_type": "markdown",
   "metadata": {},
   "source": [
    "### Examine, at the 1% significance level, whether there is evidence of positive correlation between 'sales' and 'advertising costs', stating the critical value and your conclusion. \n",
    "\n",
    "### Check the table of critical values for Pearson correlation coefficient\n",
    "\n",
    "#### Reference: http://www.radford.edu/~jaspelme/statsbook/Chapter%20files/Table_of_Critical_Values_for_r.pdf\n",
    "\n"
   ]
  },
  {
   "cell_type": "code",
   "execution_count": null,
   "metadata": {},
   "outputs": [],
   "source": []
  },
  {
   "cell_type": "markdown",
   "metadata": {},
   "source": [
    "### The critical value for 1% significant level for degree of freedom = 8-2 = 6, is found as 0.789.\n",
    "### Our observed valued which is calculated to be 0.978 >0.789.\n",
    "\n",
    "### Therefore, we will reject the null hypothesis that Pearson correlation coefficent =0 and favor the alternative hypothesis that Pearson correlation coefficient >0"
   ]
  },
  {
   "cell_type": "markdown",
   "metadata": {},
   "source": [
    "## How to interprete hypothesis testing\n",
    "\n",
    "1. https://onlinecourses.science.psu.edu/statprogram/node/137\n",
    "    \n",
    "2. http://www.statisticshowto.com/probability-and-statistics/find-critical-values/    "
   ]
  },
  {
   "cell_type": "code",
   "execution_count": null,
   "metadata": {},
   "outputs": [],
   "source": []
  },
  {
   "cell_type": "markdown",
   "metadata": {},
   "source": [
    "### Calculate Spearman's rank correlation coefficient between the sets of ranks.  \n",
    "\n",
    "### Examine, at the 1% level, whether there is evidence of a positive association between the two rank list"
   ]
  },
  {
   "cell_type": "code",
   "execution_count": 1,
   "metadata": {},
   "outputs": [
    {
     "data": {
      "text/plain": [
       "0.9047619047619048"
      ]
     },
     "execution_count": 1,
     "metadata": {},
     "output_type": "execute_result"
    }
   ],
   "source": [
    "ranky = [4,1,2,5,3,6,7,8]\n",
    "rankx = [6,2,1,4,3,5,7,8]\n",
    "\n",
    "n = len(ranky)\n",
    "\n",
    "# Spearman rank correlation coefficient\n",
    "\n",
    "# mini exercise: how to caculate d?\n",
    "\n",
    "\n",
    "\n",
    "\n",
    "rs = 1- (6*d)/(n*(n**2-1))\n",
    "\n",
    "rs\n"
   ]
  },
  {
   "cell_type": "markdown",
   "metadata": {},
   "source": [
    "#### Reference:\n",
    "\n",
    "https://en.wikipedia.org/wiki/Spearman%27s_rank_correlation_coefficient\n",
    "\n",
    "https://www.york.ac.uk/depts/maths/tables/spearman.pdf\n",
    "    \n",
    "### critical value for n = 8 and 1% is 0.833, we see that 0.9048 > 0.833, we reject null hypothesis (i.e. rs = 0), accepting alternative hypothesis rs > 0    "
   ]
  },
  {
   "cell_type": "markdown",
   "metadata": {},
   "source": [
    "## Advantage: The Spearman’s rank correlation coefficient does not rely on any distributional assumptions.\n",
    "\n"
   ]
  },
  {
   "cell_type": "code",
   "execution_count": null,
   "metadata": {},
   "outputs": [],
   "source": []
  },
  {
   "cell_type": "markdown",
   "metadata": {},
   "source": [
    "#### Reference:\n",
    "\n",
    "http://www.hkss.org.hk/index.php/prof/exam/doc\n",
    "        "
   ]
  },
  {
   "cell_type": "code",
   "execution_count": null,
   "metadata": {},
   "outputs": [],
   "source": []
  }
 ],
 "metadata": {
  "kernelspec": {
   "display_name": "Python 3",
   "language": "python",
   "name": "python3"
  },
  "language_info": {
   "codemirror_mode": {
    "name": "ipython",
    "version": 3
   },
   "file_extension": ".py",
   "mimetype": "text/x-python",
   "name": "python",
   "nbconvert_exporter": "python",
   "pygments_lexer": "ipython3",
   "version": "3.6.3"
  }
 },
 "nbformat": 4,
 "nbformat_minor": 2
}
