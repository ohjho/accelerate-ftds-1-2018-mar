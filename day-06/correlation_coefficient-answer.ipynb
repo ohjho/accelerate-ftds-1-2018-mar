{
 "cells": [
  {
   "cell_type": "markdown",
   "metadata": {},
   "source": [
    "# Introduction to Statistical Hypothesis Testing\n",
    " \n",
    "### Examples: \n",
    "\n",
    "### 1. If an engineer has to decide on the basis of sample data whether the true average lifetime of a certain kind of tire is 22,000 miles;  \n",
    " \n",
    "### 2. if an agronomist has to decide on the basis of experiments whether one kind of fertilizer produces a higher yield of soybeans than another; or \n",
    "\n",
    " \n",
    "## These problems can all be translated into the language of **statistical tests of hypotheses**"
   ]
  },
  {
   "cell_type": "code",
   "execution_count": null,
   "metadata": {},
   "outputs": [],
   "source": []
  },
  {
   "cell_type": "markdown",
   "metadata": {},
   "source": [
    "## Example 1. \n",
    "### Null Hypothesis: $$ \\mu = 22000$$ vs Alternative Hypothesis: $$ \\mu \\neq 22000 $$\n",
    "\n",
    "\n"
   ]
  },
  {
   "cell_type": "markdown",
   "metadata": {},
   "source": [
    "## Example 2. \n",
    "### Null Hypothesis: $$ \\mu1 = \\mu2$$ vs Alternative Hypothesis: $$ \\mu1 > \\mu2 $$\n",
    "\n",
    "\n"
   ]
  },
  {
   "cell_type": "code",
   "execution_count": null,
   "metadata": {},
   "outputs": [],
   "source": []
  },
  {
   "cell_type": "markdown",
   "metadata": {
    "collapsed": true
   },
   "source": [
    "Sample product-moment correlation coefficient\n",
    "\n",
    "Reference:\n",
    "https://en.wikipedia.org/wiki/Pearson_correlation_coefficient\n"
   ]
  },
  {
   "cell_type": "code",
   "execution_count": null,
   "metadata": {},
   "outputs": [],
   "source": []
  },
  {
   "cell_type": "markdown",
   "metadata": {},
   "source": [
    "### Suppose you are working as a chocolate manufacturer and is interested in the effect of advertising on sales. \n",
    "### You select a random sample of eight of the products. The value Y of sales, in tens of thousands of pounds, of each product in a certain period and the amount of money X, in thousands of pounds,spent on advertising each product were recorded. \n",
    "\n",
    "### Using the following information, calculate the sample product-moment correlation coefficient between the variables 'sales' and 'advertising costs'. \n",
    "\n",
    "\n",
    "#### Reference: http://www.hkss.org.hk/images/exam/papers/Past/2016/HC4%202016%20-%20HKSS.PDF\n",
    "\n"
   ]
  },
  {
   "cell_type": "code",
   "execution_count": 4,
   "metadata": {},
   "outputs": [
    {
     "data": {
      "text/plain": [
       "0.9781648070201413"
      ]
     },
     "execution_count": 4,
     "metadata": {},
     "output_type": "execute_result"
    }
   ],
   "source": [
    "sumofx = 386\n",
    "sumofy = 460\n",
    "sumofx2 = 25426\n",
    "sumofy2 = 28867\n",
    "sumofxy = 26161\n",
    "n = 8\n",
    "\n",
    "\n",
    "Sxx = sumofx2 - (sumofx)**2/n\n",
    "Syy = sumofy2 - (sumofy)**2/n\n",
    "Sxy = sumofxy - (sumofx*sumofy)/n\n",
    "\n",
    "import math\n",
    "\n",
    "r = Sxy/math.sqrt(Sxx*Syy)\n",
    "r \n",
    "\n"
   ]
  },
  {
   "cell_type": "code",
   "execution_count": 1,
   "metadata": {},
   "outputs": [
    {
     "data": {
      "text/plain": [
       "0.998718938316758"
      ]
     },
     "execution_count": 1,
     "metadata": {},
     "output_type": "execute_result"
    }
   ],
   "source": [
    "x = [2.3,5.4,6,3,10,12]\n",
    "y = [5,12,14,7,22.4,25.9]\n",
    "\n",
    "\n",
    "\n",
    "sumofx = sum(x)\n",
    "sumofy = sum(y)\n",
    "\n",
    "\n",
    "\n",
    "# reference: \n",
    "# https://stackoverflow.com/questions/10271484/how-to-perform-element-wise-multiplication-of-two-lists-in-python\n",
    "sumofx2 = sum([a*b for a,b in zip(x,x)])\n",
    "sumofy2 = sum([a*b for a,b in zip(y,y)])\n",
    "sumofxy = sum([a*b for a,b in zip(x,y)])\n",
    "\n",
    "\n",
    "Sxx = sumofx2 - (sumofx)**2/len(x)\n",
    "Syy = sumofy2 - (sumofy)**2/len(x)\n",
    "Sxy = sumofxy - (sumofx*sumofy)/len(x)\n",
    "\n",
    "import math\n",
    "\n",
    "r = Sxy/math.sqrt(Sxx*Syy)\n",
    "r \n"
   ]
  },
  {
   "cell_type": "code",
   "execution_count": 2,
   "metadata": {},
   "outputs": [
    {
     "data": {
      "text/plain": [
       "(0.9987189383167582, 2.460627367048062e-06)"
      ]
     },
     "execution_count": 2,
     "metadata": {},
     "output_type": "execute_result"
    }
   ],
   "source": [
    "from scipy.stats.stats import pearsonr\n",
    "\n",
    "pearsonr(x,y)"
   ]
  },
  {
   "cell_type": "code",
   "execution_count": 9,
   "metadata": {},
   "outputs": [
    {
     "data": {
      "text/html": [
       "<div>\n",
       "<style scoped>\n",
       "    .dataframe tbody tr th:only-of-type {\n",
       "        vertical-align: middle;\n",
       "    }\n",
       "\n",
       "    .dataframe tbody tr th {\n",
       "        vertical-align: top;\n",
       "    }\n",
       "\n",
       "    .dataframe thead th {\n",
       "        text-align: right;\n",
       "    }\n",
       "</style>\n",
       "<table border=\"1\" class=\"dataframe\">\n",
       "  <thead>\n",
       "    <tr style=\"text-align: right;\">\n",
       "      <th></th>\n",
       "      <th>index</th>\n",
       "      <th>0</th>\n",
       "    </tr>\n",
       "  </thead>\n",
       "  <tbody>\n",
       "    <tr>\n",
       "      <th>index</th>\n",
       "      <td>1.000000</td>\n",
       "      <td>0.998719</td>\n",
       "    </tr>\n",
       "    <tr>\n",
       "      <th>0</th>\n",
       "      <td>0.998719</td>\n",
       "      <td>1.000000</td>\n",
       "    </tr>\n",
       "  </tbody>\n",
       "</table>\n",
       "</div>"
      ],
      "text/plain": [
       "          index         0\n",
       "index  1.000000  0.998719\n",
       "0      0.998719  1.000000"
      ]
     },
     "execution_count": 9,
     "metadata": {},
     "output_type": "execute_result"
    }
   ],
   "source": [
    "import pandas as pd\n",
    "\n",
    "df = pd.DataFrame(x,y)\n",
    "df.corr()\n",
    "\n",
    "df = df.reset_index()\n",
    "# Reference: https://stackoverflow.com/questions/3949226/calculating-pearson-correlation-and-significance-in-python\n",
    "\n",
    "\n",
    "df.corr()"
   ]
  },
  {
   "cell_type": "code",
   "execution_count": null,
   "metadata": {},
   "outputs": [],
   "source": []
  },
  {
   "cell_type": "markdown",
   "metadata": {},
   "source": [
    "### Examine, at the 1% significance level, whether there is evidence of positive correlation between 'sales' and 'advertising costs', stating the critical value and your conclusion. \n",
    "\n",
    "### Check the table of critical values for Pearson correlation coefficient\n",
    "\n",
    "#### Reference: http://www.radford.edu/~jaspelme/statsbook/Chapter%20files/Table_of_Critical_Values_for_r.pdf\n",
    "\n"
   ]
  },
  {
   "cell_type": "code",
   "execution_count": null,
   "metadata": {},
   "outputs": [],
   "source": []
  },
  {
   "cell_type": "markdown",
   "metadata": {},
   "source": [
    "### The critical value for 1% significant level for degree of freedom = 8-2 = 6, is found as 0.789.\n",
    "### Our observed valued which is calculated to be 0.978 >0.789.\n",
    "\n",
    "### Therefore, we will reject the null hypothesis that Pearson correlation coefficent =0 and favor the alternative hypothesis that Pearson correlation coefficient >0"
   ]
  },
  {
   "cell_type": "markdown",
   "metadata": {},
   "source": [
    "## How to interprete hypothesis testing\n",
    "\n",
    "1. https://onlinecourses.science.psu.edu/statprogram/node/137\n",
    "    \n",
    "2. http://www.statisticshowto.com/probability-and-statistics/find-critical-values/    "
   ]
  },
  {
   "cell_type": "code",
   "execution_count": null,
   "metadata": {},
   "outputs": [],
   "source": []
  },
  {
   "cell_type": "markdown",
   "metadata": {},
   "source": [
    "### Calculate Spearman's rank correlation coefficient between the sets of ranks.  \n",
    "\n",
    "### Examine, at the 1% level, whether there is evidence of a positive association between the two rank list"
   ]
  },
  {
   "cell_type": "code",
   "execution_count": 10,
   "metadata": {},
   "outputs": [
    {
     "data": {
      "text/plain": [
       "0.9047619047619048"
      ]
     },
     "execution_count": 10,
     "metadata": {},
     "output_type": "execute_result"
    }
   ],
   "source": [
    "ranky = [4,1,2,5,3,6,7,8]\n",
    "rankx = [6,2,1,4,3,5,7,8]\n",
    "\n",
    "n = len(ranky)\n",
    "\n",
    "# Spearman rank correlation coefficient\n",
    "\n",
    "d = sum([(a-b)**2 for a,b in zip(rankx,ranky)])\n",
    "\n",
    "rs = 1- (6*d)/(n*(n**2-1))\n",
    "\n",
    "rs\n"
   ]
  },
  {
   "cell_type": "markdown",
   "metadata": {},
   "source": [
    "#### Reference:\n",
    "\n",
    "https://en.wikipedia.org/wiki/Spearman%27s_rank_correlation_coefficient\n",
    "\n",
    "https://www.york.ac.uk/depts/maths/tables/spearman.pdf\n",
    "    \n",
    "### critical value for n = 8 and 1% is 0.833, we see that 0.9048 > 0.833, we reject null hypothesis (i.e. rs = 0), accepting alternative hypothesis rs > 0    "
   ]
  },
  {
   "cell_type": "markdown",
   "metadata": {},
   "source": [
    "## Advantage: The Spearman’s rank correlation coefficient does not rely on any distributional assumptions.\n",
    "\n"
   ]
  },
  {
   "cell_type": "code",
   "execution_count": null,
   "metadata": {},
   "outputs": [],
   "source": []
  },
  {
   "cell_type": "markdown",
   "metadata": {},
   "source": [
    "#### Reference:\n",
    "\n",
    "http://www.hkss.org.hk/index.php/prof/exam/doc\n",
    "        "
   ]
  },
  {
   "cell_type": "code",
   "execution_count": null,
   "metadata": {},
   "outputs": [],
   "source": []
  },
  {
   "cell_type": "markdown",
   "metadata": {},
   "source": [
    "## Exercise 1"
   ]
  },
  {
   "cell_type": "code",
   "execution_count": null,
   "metadata": {},
   "outputs": [],
   "source": [
    "sumofx = 386\n",
    "sumofy = 460\n",
    "sumofx2 = 25426\n",
    "sumofy2 = 28867\n",
    "sumofxy = 26161\n",
    "n = 8\n",
    "\n",
    "\n",
    "Sxx = sumofx2 - (sumofx)**2/n\n",
    "Syy = sumofy2 - (sumofy)**2/n\n",
    "Sxy = sumofxy - (sumofx*sumofy)/n\n",
    "\n",
    "import math\n",
    "\n",
    "r = Sxy/math.sqrt(Sxx*Syy)\n",
    "r \n"
   ]
  },
  {
   "cell_type": "code",
   "execution_count": 13,
   "metadata": {},
   "outputs": [
    {
     "data": {
      "text/plain": [
       "0.8338494448140588"
      ]
     },
     "execution_count": 13,
     "metadata": {},
     "output_type": "execute_result"
    }
   ],
   "source": [
    "y=[14.4,14.7,15.0,15.4,15.5,15.7,16.0,16.1,16.3,17.0,17.1,17.2,18.4,19.8,20.0]\n",
    "x = [76.3, 69.7, 79.6, 69.4, 75.2, 71.5, 71.6, 80.5, 83.3, 83.5, 80.6, 82.6, 84.3, 93.3, 88.6]\n",
    "\n",
    "sumofx = sum(x)\n",
    "sumofy = sum(y)\n",
    "\n",
    "# reference: \n",
    "# https://stackoverflow.com/questions/10271484/how-to-perform-element-wise-multiplication-of-two-lists-in-python\n",
    "sumofx2 = sum([a*b for a,b in zip(x,x)])\n",
    "sumofy2 = sum([a*b for a,b in zip(y,y)])\n",
    "sumofxy = sum([a*b for a,b in zip(x,y)])\n",
    "\n",
    "\n",
    "Sxx = sumofx2 - (sumofx)**2/len(x)\n",
    "Syy = sumofy2 - (sumofy)**2/len(x)\n",
    "Sxy = sumofxy - (sumofx*sumofy)/len(x)\n",
    "\n",
    "import math\n",
    "\n",
    "r = Sxy/math.sqrt(Sxx*Syy)\n",
    "r \n"
   ]
  },
  {
   "cell_type": "markdown",
   "metadata": {},
   "source": [
    "### 1% point is 0.5923 \n",
    "\n",
    "### At 1% significance level there is strong evidence against null hypothesis, which shows that there is a strong positive correlation between number of chirps and temperature."
   ]
  },
  {
   "cell_type": "code",
   "execution_count": 14,
   "metadata": {},
   "outputs": [],
   "source": [
    "import scipy.stats as ss\n",
    "\n",
    "rankx = list(ss.rankdata(x))\n",
    "ranky = list(ss.rankdata(y))"
   ]
  },
  {
   "cell_type": "code",
   "execution_count": 22,
   "metadata": {},
   "outputs": [
    {
     "name": "stdout",
     "output_type": "stream",
     "text": [
      "[76.3, 69.7, 79.6, 69.4, 75.2, 71.5, 71.6, 80.5, 83.3, 83.5, 80.6, 82.6, 84.3, 93.3, 88.6]\n",
      "[6.0, 2.0, 7.0, 1.0, 5.0, 3.0, 4.0, 8.0, 11.0, 12.0, 9.0, 10.0, 13.0, 15.0, 14.0]\n"
     ]
    }
   ],
   "source": [
    "print(x)\n",
    "print(rankx)"
   ]
  },
  {
   "cell_type": "code",
   "execution_count": 21,
   "metadata": {},
   "outputs": [
    {
     "name": "stdout",
     "output_type": "stream",
     "text": [
      "[14.4, 14.7, 15.0, 15.4, 15.5, 15.7, 16.0, 16.1, 16.3, 17.0, 17.1, 17.2, 18.4, 19.8, 20.0]\n",
      "[1.0, 2.0, 3.0, 4.0, 5.0, 6.0, 7.0, 8.0, 9.0, 10.0, 11.0, 12.0, 13.0, 14.0, 15.0]\n"
     ]
    }
   ],
   "source": [
    "print(y)\n",
    "print(ranky)"
   ]
  },
  {
   "cell_type": "code",
   "execution_count": 23,
   "metadata": {},
   "outputs": [
    {
     "data": {
      "text/plain": [
       "1189.9999999999998"
      ]
     },
     "execution_count": 23,
     "metadata": {},
     "output_type": "execute_result"
    }
   ],
   "source": [
    "sumofx"
   ]
  },
  {
   "cell_type": "code",
   "execution_count": 24,
   "metadata": {},
   "outputs": [
    {
     "data": {
      "text/plain": [
       "248.60000000000002"
      ]
     },
     "execution_count": 24,
     "metadata": {},
     "output_type": "execute_result"
    }
   ],
   "source": [
    "sumofy"
   ]
  },
  {
   "cell_type": "code",
   "execution_count": 25,
   "metadata": {},
   "outputs": [
    {
     "data": {
      "text/plain": [
       "0.8464285714285714"
      ]
     },
     "execution_count": 25,
     "metadata": {},
     "output_type": "execute_result"
    }
   ],
   "source": [
    "n = len(ranky)\n",
    "\n",
    "# Spearman rank correlation coefficient\n",
    "\n",
    "d = sum([(a-b)**2 for a,b in zip(rankx,ranky)])\n",
    "\n",
    "rs = 1- (6*d)/(n*(n**2-1))\n",
    "\n",
    "rs"
   ]
  },
  {
   "cell_type": "markdown",
   "metadata": {},
   "source": [
    "### 1% point is 0.5923 \n",
    "\n",
    "### At 1% significance level there is strong evidence against H0, which shows that there is a strong positive correlation between number of chirps and temperature."
   ]
  },
  {
   "cell_type": "markdown",
   "metadata": {},
   "source": [
    "### 1% point 0.6036 ⇒ Strong evidence against H0, which shows that there is a strong association between the number of chirps and temperature."
   ]
  },
  {
   "cell_type": "code",
   "execution_count": null,
   "metadata": {},
   "outputs": [],
   "source": []
  },
  {
   "cell_type": "markdown",
   "metadata": {},
   "source": [
    "## Exercise 2:"
   ]
  },
  {
   "cell_type": "code",
   "execution_count": null,
   "metadata": {},
   "outputs": [],
   "source": []
  },
  {
   "cell_type": "code",
   "execution_count": 29,
   "metadata": {},
   "outputs": [
    {
     "data": {
      "text/plain": [
       "0.9132112971140768"
      ]
     },
     "execution_count": 29,
     "metadata": {},
     "output_type": "execute_result"
    }
   ],
   "source": [
    "x = [29, 27, 17, 25, 8, 19, 11, 9, 4]\n",
    "y = [29, 22, 19, 33, 7, 14, 12, 11, 5]\n",
    "\n",
    "sumofx = sum(x)\n",
    "sumofy = sum(y)\n",
    "\n",
    "# reference: \n",
    "# https://stackoverflow.com/questions/10271484/how-to-perform-element-wise-multiplication-of-two-lists-in-python\n",
    "sumofx2 = sum([a*b for a,b in zip(x,x)])\n",
    "sumofy2 = sum([a*b for a,b in zip(y,y)])\n",
    "sumofxy = sum([a*b for a,b in zip(x,y)])\n",
    "\n",
    "\n",
    "Sxx = sumofx2 - (sumofx)**2/len(x)\n",
    "Syy = sumofy2 - (sumofy)**2/len(x)\n",
    "Sxy = sumofxy - (sumofx*sumofy)/len(x)\n",
    "\n",
    "import math\n",
    "\n",
    "r = Sxy/math.sqrt(Sxx*Syy)\n",
    "r \n"
   ]
  },
  {
   "cell_type": "code",
   "execution_count": 32,
   "metadata": {},
   "outputs": [
    {
     "data": {
      "text/plain": [
       "9"
      ]
     },
     "execution_count": 32,
     "metadata": {},
     "output_type": "execute_result"
    }
   ],
   "source": [
    "len(x)"
   ]
  },
  {
   "cell_type": "code",
   "execution_count": 38,
   "metadata": {},
   "outputs": [
    {
     "data": {
      "text/plain": [
       "0.7081"
      ]
     },
     "execution_count": 38,
     "metadata": {},
     "output_type": "execute_result"
    }
   ],
   "source": [
    "(0.6664+0.7498)/2"
   ]
  },
  {
   "cell_type": "markdown",
   "metadata": {},
   "source": [
    "### Notice that the approximated critical value for 2% significant is 0.7081, since 0.913 > 0.7081, we reject the null hypothesis in favor of alternative hypothesis"
   ]
  },
  {
   "cell_type": "code",
   "execution_count": 30,
   "metadata": {},
   "outputs": [],
   "source": [
    "import scipy.stats as ss\n",
    "\n",
    "rankx = list(ss.rankdata(x))\n",
    "ranky = list(ss.rankdata(y))"
   ]
  },
  {
   "cell_type": "code",
   "execution_count": 31,
   "metadata": {},
   "outputs": [
    {
     "data": {
      "text/plain": [
       "0.9333333333333333"
      ]
     },
     "execution_count": 31,
     "metadata": {},
     "output_type": "execute_result"
    }
   ],
   "source": [
    "n = len(ranky)\n",
    "\n",
    "# Spearman rank correlation coefficient\n",
    "\n",
    "d = sum([(a-b)**2 for a,b in zip(rankx,ranky)])\n",
    "\n",
    "rs = 1- (6*d)/(n*(n**2-1))\n",
    "\n",
    "rs"
   ]
  },
  {
   "cell_type": "code",
   "execution_count": 39,
   "metadata": {},
   "outputs": [
    {
     "data": {
      "text/plain": [
       "0.7415"
      ]
     },
     "execution_count": 39,
     "metadata": {},
     "output_type": "execute_result"
    }
   ],
   "source": [
    "(0.7000+0.783)/2"
   ]
  },
  {
   "cell_type": "markdown",
   "metadata": {},
   "source": [
    "### Notice that the approximated critical value for 2% significant is 0.7415, since 0.933 > 0.7415, we reject the null hypothesis in favor of alternative hypothesis"
   ]
  },
  {
   "cell_type": "code",
   "execution_count": null,
   "metadata": {},
   "outputs": [],
   "source": []
  }
 ],
 "metadata": {
  "kernelspec": {
   "display_name": "Python 3",
   "language": "python",
   "name": "python3"
  },
  "language_info": {
   "codemirror_mode": {
    "name": "ipython",
    "version": 3
   },
   "file_extension": ".py",
   "mimetype": "text/x-python",
   "name": "python",
   "nbconvert_exporter": "python",
   "pygments_lexer": "ipython3",
   "version": "3.6.3"
  }
 },
 "nbformat": 4,
 "nbformat_minor": 2
}
