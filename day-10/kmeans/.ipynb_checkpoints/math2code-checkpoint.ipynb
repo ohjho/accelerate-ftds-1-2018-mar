{
 "cells": [
  {
   "cell_type": "markdown",
   "metadata": {},
   "source": [
    "# Mathematical Notation\n",
    "\n",
    "I tend to find mathematical notation quite intimidating however I often find the expressing the same ideas in code makes them easier to understand. "
   ]
  },
  {
   "cell_type": "markdown",
   "metadata": {},
   "source": [
    "## Sets"
   ]
  },
  {
   "cell_type": "markdown",
   "metadata": {},
   "source": []
  },
  {
   "cell_type": "markdown",
   "metadata": {},
   "source": [
    "## Summnation\n",
    "\n",
    "  $ \\sum^{10}_{i = 1} x_i $ "
   ]
  },
  {
   "cell_type": "code",
   "execution_count": null,
   "metadata": {},
   "outputs": [],
   "source": []
  },
  {
   "cell_type": "markdown",
   "metadata": {},
   "source": [
    "# Eucldiean Norm\n",
    "\n",
    "If you remeber back to pythagorus $ a^2 + b^2 = c^2 $, we can use this equation to calculate the distance between two points."
   ]
  },
  {
   "cell_type": "markdown",
   "metadata": {},
   "source": [
    "The double bar repesent the eudlciean norm, which is the length of the vector.\n",
    "$$ \\|(1,2,3) \\|=\\sqrt{1^2+2^2+3^2}=\\sqrt{14} $$"
   ]
  },
  {
   "cell_type": "code",
   "execution_count": null,
   "metadata": {},
   "outputs": [],
   "source": []
  },
  {
   "cell_type": "markdown",
   "metadata": {},
   "source": [
    "## Exercise \n",
    "\n",
    "Bellow is the formular for the eucldiean distance between to points, convert this into code.\n",
    "\n",
    "$$ {\\displaystyle {\\begin{aligned}d(\\mathbf {p} ,\\mathbf {q} )=\n",
    "{\\sqrt {\\sum _{i=1}^{n}(q_{i}-p_{i})^{2}}}.\\end{aligned}}} $$\n",
    "\n"
   ]
  }
 ],
 "metadata": {
  "kernelspec": {
   "display_name": "Python 3",
   "language": "python",
   "name": "python3"
  },
  "language_info": {
   "codemirror_mode": {
    "name": "ipython",
    "version": 3
   },
   "file_extension": ".py",
   "mimetype": "text/x-python",
   "name": "python",
   "nbconvert_exporter": "python",
   "pygments_lexer": "ipython3",
   "version": "3.6.3"
  }
 },
 "nbformat": 4,
 "nbformat_minor": 2
}
