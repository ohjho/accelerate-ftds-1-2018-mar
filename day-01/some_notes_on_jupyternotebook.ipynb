{
 "cells": [
  {
   "cell_type": "markdown",
   "metadata": {
    "collapsed": true
   },
   "source": [
    "## How to Use Jupyter Notebook\n",
    "\n",
    "### Getting Started\n",
    "```bash\n",
    "# installation\n",
    "pip install jupyter\n",
    "\n",
    "# run it locally\n",
    "jupyter notebook\n",
    "```\n",
    "\n",
    "### Cell Type\n",
    "This is the basic building block in Jupyter notebook.\n",
    "\n",
    "Change the cell type like this `Cell> Cell Type>` and you can change it between `code` or `markdown`\n",
    "\n",
    "### LaTex\n",
    "works like this\n",
    "```\n",
    "$'\\sqrt{a^2 + b^2}'$ # in-line\n",
    "$$'\\sqrt{a^2 + b^2}'$$ # newline and centered\n",
    "```\n",
    "and looks like [this](#latex_ex2)\n",
    "\n",
    "### Some **Key** Keyboard shortcuts\n",
    "Toggle Cell Type to Markdown: `m`  \n",
    "Toggle Cell Type to Code: `c`  \n",
    "Run cell: `C + Enter`  \n",
    "Edit cell: `Enter`  \n",
    "\n",
    "### Magic\n",
    "magic lets you do things in a code cell that's beyond python. For example you can run R code, Bash commands etc.  \n",
    "\n",
    "`%lsmagic` list all the magic\n",
    "\n",
    "`?%matplotlib` for example, will show what the magic matplotlib does\n",
    "\n",
    "### References\n",
    "[Jupyter Notebook Tutorial: The Definitive Guide][1]  \n",
    "[Markdown Cheatsheet][md_ref1]  \n",
    "[Markdown Cheatsheet (more detailed)][md_ref2]  \n",
    "[LaTex Symbol Lookup][2]  \n",
    "\n",
    "[1]:https://www.datacamp.com/community/tutorials/tutorial-jupyter-notebook\n",
    "[md_ref1]:https://guides.github.com/pdfs/markdown-cheatsheet-online.pdf\n",
    "[md_ref2]:https://github.com/adam-p/markdown-here/wiki/Markdown-Cheatsheet\n",
    "[2]:http://detexify.kirelabs.org/classify.html\n"
   ]
  },
  {
   "cell_type": "markdown",
   "metadata": {},
   "source": [
    "<a id='latex_ex2'></a>\n",
    "## LaTex Examples"
   ]
  },
  {
   "cell_type": "markdown",
   "metadata": {},
   "source": [
    "Example of a square root symbol in LaTex\n",
    "$ \\sqrt{a^2 + b^2} $"
   ]
  },
  {
   "cell_type": "code",
   "execution_count": 5,
   "metadata": {},
   "outputs": [
    {
     "data": {
      "text/latex": [
       "$$\\sqrt{a^2 + b^2}$$"
      ],
      "text/plain": [
       "<IPython.core.display.Math object>"
      ]
     },
     "metadata": {},
     "output_type": "display_data"
    }
   ],
   "source": [
    "from IPython.display import display, Math, Latex\n",
    "display(Math(r'\\sqrt{a^2 + b^2}'))\n"
   ]
  }
 ],
 "metadata": {
  "kernelspec": {
   "display_name": "Python 3.6",
   "language": "python",
   "name": "python36"
  },
  "language_info": {
   "codemirror_mode": {
    "name": "ipython",
    "version": 3
   },
   "file_extension": ".py",
   "mimetype": "text/x-python",
   "name": "python",
   "nbconvert_exporter": "python",
   "pygments_lexer": "ipython3",
   "version": "3.6.3"
  }
 },
 "nbformat": 4,
 "nbformat_minor": 2
}
